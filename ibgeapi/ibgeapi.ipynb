{
 "cells": [
  {
   "cell_type": "markdown",
   "id": "436fed16-ec4a-420c-8a6a-5dae3c77a0db",
   "metadata": {},
   "source": [
    "# API de agregados do IBGE"
   ]
  },
  {
   "cell_type": "markdown",
   "id": "aa04017c-d83d-47e1-bcfa-c6f8542d769c",
   "metadata": {},
   "source": [
    "A API para a obtenção de valores agregados do IBGE é muito fácil e acessível, não necessitando da realização de autenticações e contando simplesmente com consultas GET. Abaixo desenvolvemos algumas funções úteis para a obtenção de valores do Índice Nacional de Preços ao Consumidor Amplo (IPCA) ao longo do tempo."
   ]
  },
  {
   "cell_type": "code",
   "execution_count": 1,
   "id": "2b7895a4-2c79-4a03-bea6-894c90bd5bf1",
   "metadata": {},
   "outputs": [],
   "source": [
    "import numpy as np\n",
    "\n",
    "import requests"
   ]
  },
  {
   "cell_type": "code",
   "execution_count": 2,
   "id": "a5f769c0-0095-43d1-985c-06cb3d989dce",
   "metadata": {},
   "outputs": [],
   "source": [
    "def consulta_ipca(meses, anos, d = 2):\n",
    "    '''\n",
    "        Obtém os números-índice dos períodos especificados.\n",
    "        args:\n",
    "            meses: int/list\n",
    "                Meses a serem consultados\n",
    "            anos: int/list\n",
    "                Anos a serem consultados (deve ter o mesmo tamanho de ``meses``)\n",
    "            d: int\n",
    "                Número de casas decimais a serem retornadas pela API\n",
    "    '''\n",
    "    if(type(meses) != list and type(meses) != np.ndarray): meses = [meses]\n",
    "    if(type(anos) != list and type(anos) != np.ndarray): anos = [anos]\n",
    "        \n",
    "    # Criação da URL\n",
    "    t = 1737\n",
    "    v = 2266\n",
    "    ps = []\n",
    "    for mes, ano in zip(meses, anos):\n",
    "        ps.append( \"{}{}\".format(str(ano), str(mes).zfill(2)) )\n",
    "    p = \",\".join(ps)\n",
    "    url = \"https://apisidra.ibge.gov.br/values/t/{}/n1/all/v/{}/p/{}/d/{}\".format(t, v, p, d)\n",
    "    \n",
    "    # Requisição à API\n",
    "    r = requests.get(url).json()\n",
    "    vs = list(map(lambda x : float(x[\"V\"]), r[1:]))\n",
    "    \n",
    "    if(len(meses) == 1): return vs[0]\n",
    "    \n",
    "    return vs\n",
    "\n",
    "def deflacionar_precos(values, meses, anos, mes_ref, ano_ref, d = 2):\n",
    "    '''\n",
    "        Converte os preços dos períodos listados para o preço deflacionado no período de referência.\n",
    "        args:\n",
    "            values: list\n",
    "                Preços ao longo dos períodos especificados\n",
    "            meses: list\n",
    "                Meses a serem deflacionados\n",
    "            anos: list\n",
    "                Meses a serem deflacionados\n",
    "            mes_ref: int\n",
    "                Mês de referência para os valores deflacionados\n",
    "            ano_ref: int\n",
    "                Ano de referência para os valores deflacionados\n",
    "            d: int\n",
    "                Número de casas decimais a serem retornadas pela API\n",
    "    '''\n",
    "    # Consulta na API\n",
    "    i_values = consulta_ipca(meses, anos, d = d)\n",
    "    i_ref = consulta_ipca(mes_ref, ano_ref, d = d)\n",
    "    \n",
    "    if(type(values) != list): values = [values]\n",
    "    if(type(i_values) != list): i_values = [i_values]\n",
    "    \n",
    "    # Deflaciona os preços\n",
    "    new_values = []\n",
    "    for value, i in zip(values, i_values):\n",
    "        new_values.append( round(value * i_ref/i, 2) )\n",
    "    \n",
    "    if(len(values) == 1): return new_values[0]\n",
    "    \n",
    "    return new_values"
   ]
  },
  {
   "cell_type": "markdown",
   "id": "ae56640a-b977-4a5b-aea8-9a9dd73e5788",
   "metadata": {},
   "source": [
    "Como podemos comparar com alguns resultados obtidos manualmente pela calculadora de inflação do IBGE (https://www.ibge.gov.br/explica/inflacao.php), vemos que o código acima retorna exatamente os valores desejados quanto o deflacionamento dos valores."
   ]
  },
  {
   "cell_type": "code",
   "execution_count": 3,
   "id": "fd61af93-a69f-4046-ae97-e6afb459506a",
   "metadata": {},
   "outputs": [
    {
     "name": "stdout",
     "output_type": "stream",
     "text": [
      "1000 reais em 08/2012 equivale a 1522.9 reais em 03/2020\n"
     ]
    }
   ],
   "source": [
    "# Mês deflacionado: Agosto de 2012\n",
    "mes = 8\n",
    "ano = 2012\n",
    "\n",
    "# Mês de referência: Março de 2020\n",
    "mes_ref = 3\n",
    "ano_ref = 2020\n",
    "\n",
    "print(\"{} reais em 08/2012 equivale a {} reais em 03/2020\".format(1000, deflacionar_precos(1000, mes, ano, mes_ref, ano_ref)))"
   ]
  },
  {
   "cell_type": "code",
   "execution_count": 4,
   "id": "5913d047-fe27-43e4-b8a6-e9fa98db8dd0",
   "metadata": {},
   "outputs": [
    {
     "data": {
      "text/plain": [
       "1718.51"
      ]
     },
     "execution_count": 4,
     "metadata": {},
     "output_type": "execute_result"
    }
   ],
   "source": [
    "meses = np.repeat(6, 10)\n",
    "ano = np.repeat(2010, 10)\n",
    "\n",
    "mes_ref = 3\n",
    "ano_ref = 2020\n",
    "\n",
    "deflacionar_precos(1000, mes, ano, mes_ref, ano_ref)"
   ]
  }
 ],
 "metadata": {
  "kernelspec": {
   "display_name": "Python 3 (ipykernel)",
   "language": "python",
   "name": "python3"
  },
  "language_info": {
   "codemirror_mode": {
    "name": "ipython",
    "version": 3
   },
   "file_extension": ".py",
   "mimetype": "text/x-python",
   "name": "python",
   "nbconvert_exporter": "python",
   "pygments_lexer": "ipython3",
   "version": "3.9.12"
  }
 },
 "nbformat": 4,
 "nbformat_minor": 5
}
