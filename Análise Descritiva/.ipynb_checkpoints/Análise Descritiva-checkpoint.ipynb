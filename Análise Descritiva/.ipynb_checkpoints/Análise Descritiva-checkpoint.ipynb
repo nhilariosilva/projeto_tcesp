{
 "cells": [
  {
   "cell_type": "code",
   "execution_count": 1,
   "id": "44ca773c-9fa6-46c4-8a20-0292bbdff013",
   "metadata": {},
   "outputs": [],
   "source": [
    "import sys, os\n",
    "sys.path.insert(0, os.path.abspath(\".\"))\n",
    "\n",
    "from time import time\n",
    "import numpy as np\n",
    "\n",
    "import pandas as pd\n",
    "from matplotlib import pyplot as plt\n",
    "import seaborn as sns"
   ]
  },
  {
   "cell_type": "code",
   "execution_count": 2,
   "id": "1a64b818-1efd-4a12-84fd-cb37f3902c4e",
   "metadata": {},
   "outputs": [
    {
     "data": {
      "text/html": [
       "<div>\n",
       "<style scoped>\n",
       "    .dataframe tbody tr th:only-of-type {\n",
       "        vertical-align: middle;\n",
       "    }\n",
       "\n",
       "    .dataframe tbody tr th {\n",
       "        vertical-align: top;\n",
       "    }\n",
       "\n",
       "    .dataframe thead th {\n",
       "        text-align: right;\n",
       "    }\n",
       "</style>\n",
       "<table border=\"1\" class=\"dataframe\">\n",
       "  <thead>\n",
       "    <tr style=\"text-align: right;\">\n",
       "      <th></th>\n",
       "      <th>ano_exercicio</th>\n",
       "      <th>mes_referencia</th>\n",
       "      <th>ds_municipio</th>\n",
       "      <th>ds_orgao</th>\n",
       "      <th>id_despesa</th>\n",
       "      <th>vl_despesa</th>\n",
       "    </tr>\n",
       "  </thead>\n",
       "  <tbody>\n",
       "    <tr>\n",
       "      <th>0</th>\n",
       "      <td>2010</td>\n",
       "      <td>1</td>\n",
       "      <td>Adamantina</td>\n",
       "      <td>CENTRO UNIVERSITÁRIO DE ADAMANTINA</td>\n",
       "      <td>0101</td>\n",
       "      <td>15550.64</td>\n",
       "    </tr>\n",
       "    <tr>\n",
       "      <th>1</th>\n",
       "      <td>2010</td>\n",
       "      <td>1</td>\n",
       "      <td>Adamantina</td>\n",
       "      <td>CENTRO UNIVERSITÁRIO DE ADAMANTINA</td>\n",
       "      <td>0301</td>\n",
       "      <td>1428.79</td>\n",
       "    </tr>\n",
       "    <tr>\n",
       "      <th>2</th>\n",
       "      <td>2010</td>\n",
       "      <td>1</td>\n",
       "      <td>Adamantina</td>\n",
       "      <td>CENTRO UNIVERSITÁRIO DE ADAMANTINA</td>\n",
       "      <td>1101</td>\n",
       "      <td>737578.27</td>\n",
       "    </tr>\n",
       "  </tbody>\n",
       "</table>\n",
       "</div>"
      ],
      "text/plain": [
       "   ano_exercicio  mes_referencia ds_municipio  \\\n",
       "0           2010               1   Adamantina   \n",
       "1           2010               1   Adamantina   \n",
       "2           2010               1   Adamantina   \n",
       "\n",
       "                             ds_orgao id_despesa  vl_despesa  \n",
       "0  CENTRO UNIVERSITÁRIO DE ADAMANTINA       0101    15550.64  \n",
       "1  CENTRO UNIVERSITÁRIO DE ADAMANTINA       0301     1428.79  \n",
       "2  CENTRO UNIVERSITÁRIO DE ADAMANTINA       1101   737578.27  "
      ]
     },
     "metadata": {},
     "output_type": "display_data"
    }
   ],
   "source": [
    "df = pd.read_parquet(\"../Scrapping Transparência/Data/data2010to2022.parquet\")\n",
    "display( df.head(3) )"
   ]
  },
  {
   "cell_type": "code",
   "execution_count": 3,
   "id": "b6b89be7-4125-4b46-bfc1-f727864a1930",
   "metadata": {},
   "outputs": [
    {
     "data": {
      "text/plain": [
       "644"
      ]
     },
     "execution_count": 3,
     "metadata": {},
     "output_type": "execute_result"
    }
   ],
   "source": [
    "len(df.ds_municipio.unique())"
   ]
  },
  {
   "cell_type": "markdown",
   "id": "e2466e5b-4288-4382-b8ca-48b4142b7333",
   "metadata": {},
   "source": [
    "## Reprodução - Análise de dados anuais"
   ]
  },
  {
   "cell_type": "markdown",
   "id": "fe38586f-cee3-4a4c-a3d0-fb870a20d562",
   "metadata": {},
   "source": [
    "Como podemos ver, a base de dados agregada até o momento é mais geral, contando com dados mensais de todas as despesas dos municípios. A seguir, façamos a reprodução dos resultados iniciais obtidos na parceria do grupo CEMEai com o tribunal de contas do estado de São Paulo. Para isso, os dados serão agrupados em anos, simplificando a análise."
   ]
  },
  {
   "cell_type": "code",
   "execution_count": 4,
   "id": "db8bff77-58d2-4615-953e-b48d25419cc1",
   "metadata": {},
   "outputs": [
    {
     "data": {
      "text/html": [
       "<div>\n",
       "<style scoped>\n",
       "    .dataframe tbody tr th:only-of-type {\n",
       "        vertical-align: middle;\n",
       "    }\n",
       "\n",
       "    .dataframe tbody tr th {\n",
       "        vertical-align: top;\n",
       "    }\n",
       "\n",
       "    .dataframe thead th {\n",
       "        text-align: right;\n",
       "    }\n",
       "</style>\n",
       "<table border=\"1\" class=\"dataframe\">\n",
       "  <thead>\n",
       "    <tr style=\"text-align: right;\">\n",
       "      <th></th>\n",
       "      <th>ds_municipio</th>\n",
       "      <th>ds_orgao</th>\n",
       "      <th>id_despesa</th>\n",
       "      <th>ano_exercicio</th>\n",
       "      <th>vl_despesa</th>\n",
       "    </tr>\n",
       "  </thead>\n",
       "  <tbody>\n",
       "    <tr>\n",
       "      <th>0</th>\n",
       "      <td>Adamantina</td>\n",
       "      <td>CENTRO UNIVERSITÁRIO DE ADAMANTINA</td>\n",
       "      <td>0101</td>\n",
       "      <td>2010</td>\n",
       "      <td>190734.37</td>\n",
       "    </tr>\n",
       "    <tr>\n",
       "      <th>1</th>\n",
       "      <td>Adamantina</td>\n",
       "      <td>CENTRO UNIVERSITÁRIO DE ADAMANTINA</td>\n",
       "      <td>0101</td>\n",
       "      <td>2011</td>\n",
       "      <td>179366.68</td>\n",
       "    </tr>\n",
       "    <tr>\n",
       "      <th>2</th>\n",
       "      <td>Adamantina</td>\n",
       "      <td>CENTRO UNIVERSITÁRIO DE ADAMANTINA</td>\n",
       "      <td>0101</td>\n",
       "      <td>2012</td>\n",
       "      <td>152997.07</td>\n",
       "    </tr>\n",
       "  </tbody>\n",
       "</table>\n",
       "</div>"
      ],
      "text/plain": [
       "  ds_municipio                            ds_orgao id_despesa  ano_exercicio  \\\n",
       "0   Adamantina  CENTRO UNIVERSITÁRIO DE ADAMANTINA       0101           2010   \n",
       "1   Adamantina  CENTRO UNIVERSITÁRIO DE ADAMANTINA       0101           2011   \n",
       "2   Adamantina  CENTRO UNIVERSITÁRIO DE ADAMANTINA       0101           2012   \n",
       "\n",
       "   vl_despesa  \n",
       "0   190734.37  \n",
       "1   179366.68  \n",
       "2   152997.07  "
      ]
     },
     "metadata": {},
     "output_type": "display_data"
    }
   ],
   "source": [
    "df = (\n",
    "    df.\n",
    "    groupby([\"ds_municipio\", \"ds_orgao\", \"id_despesa\", \"ano_exercicio\"]).\n",
    "    agg({\n",
    "        \"vl_despesa\": \"sum\"\n",
    "    }).reset_index()\n",
    ")\n",
    "display( df.head(3) )"
   ]
  },
  {
   "cell_type": "markdown",
   "id": "481624fb-77b5-415b-874e-2468b9815aaa",
   "metadata": {},
   "source": [
    "Uma vez agregadas as despesas anuais, só nos resta recuperar os dados adicionais da base utilizada inicialmente. As demais variáveis utilizadas contavam com valores únicos de cada município e não variavam ao longo do tempo (com exceção da variável RCL referente à receita corrente líquida). De modo a recuperar essas informações foi aplicada uma simples operação de agregamento dos dados na base inicial."
   ]
  },
  {
   "cell_type": "code",
   "execution_count": 5,
   "id": "9fb75bd1-9f22-42d1-8d6e-411c64ed5d3a",
   "metadata": {},
   "outputs": [
    {
     "data": {
      "text/html": [
       "<div>\n",
       "<style scoped>\n",
       "    .dataframe tbody tr th:only-of-type {\n",
       "        vertical-align: middle;\n",
       "    }\n",
       "\n",
       "    .dataframe tbody tr th {\n",
       "        vertical-align: top;\n",
       "    }\n",
       "\n",
       "    .dataframe thead th {\n",
       "        text-align: right;\n",
       "    }\n",
       "</style>\n",
       "<table border=\"1\" class=\"dataframe\">\n",
       "  <thead>\n",
       "    <tr style=\"text-align: right;\">\n",
       "      <th></th>\n",
       "      <th>ds_municipio</th>\n",
       "      <th>pib_nominal</th>\n",
       "      <th>populacao</th>\n",
       "      <th>atividade_principal</th>\n",
       "      <th>quantidade_total_vagas</th>\n",
       "      <th>vereadores</th>\n",
       "      <th>area</th>\n",
       "      <th>alunos_escola</th>\n",
       "    </tr>\n",
       "  </thead>\n",
       "  <tbody>\n",
       "    <tr>\n",
       "      <th>0</th>\n",
       "      <td>Adamantina</td>\n",
       "      <td>1054541</td>\n",
       "      <td>35023</td>\n",
       "      <td>Demais serviços</td>\n",
       "      <td>2002</td>\n",
       "      <td>9</td>\n",
       "      <td>411</td>\n",
       "      <td>2359</td>\n",
       "    </tr>\n",
       "    <tr>\n",
       "      <th>1</th>\n",
       "      <td>Adolfo</td>\n",
       "      <td>99734</td>\n",
       "      <td>3571</td>\n",
       "      <td>Agricultura, inclusive apoio à agricultura e a...</td>\n",
       "      <td>458</td>\n",
       "      <td>9</td>\n",
       "      <td>211</td>\n",
       "      <td>478</td>\n",
       "    </tr>\n",
       "    <tr>\n",
       "      <th>2</th>\n",
       "      <td>Aguaí</td>\n",
       "      <td>942708</td>\n",
       "      <td>35954</td>\n",
       "      <td>Demais serviços</td>\n",
       "      <td>1471</td>\n",
       "      <td>13</td>\n",
       "      <td>474</td>\n",
       "      <td>3489</td>\n",
       "    </tr>\n",
       "  </tbody>\n",
       "</table>\n",
       "</div>"
      ],
      "text/plain": [
       "  ds_municipio  pib_nominal  populacao  \\\n",
       "0   Adamantina      1054541      35023   \n",
       "1       Adolfo        99734       3571   \n",
       "2        Aguaí       942708      35954   \n",
       "\n",
       "                                 atividade_principal  quantidade_total_vagas  \\\n",
       "0                                    Demais serviços                    2002   \n",
       "1  Agricultura, inclusive apoio à agricultura e a...                     458   \n",
       "2                                    Demais serviços                    1471   \n",
       "\n",
       "   vereadores  area  alunos_escola  \n",
       "0           9   411           2359  \n",
       "1           9   211            478  \n",
       "2          13   474           3489  "
      ]
     },
     "metadata": {},
     "output_type": "display_data"
    },
    {
     "data": {
      "text/html": [
       "<div>\n",
       "<style scoped>\n",
       "    .dataframe tbody tr th:only-of-type {\n",
       "        vertical-align: middle;\n",
       "    }\n",
       "\n",
       "    .dataframe tbody tr th {\n",
       "        vertical-align: top;\n",
       "    }\n",
       "\n",
       "    .dataframe thead th {\n",
       "        text-align: right;\n",
       "    }\n",
       "</style>\n",
       "<table border=\"1\" class=\"dataframe\">\n",
       "  <thead>\n",
       "    <tr style=\"text-align: right;\">\n",
       "      <th></th>\n",
       "      <th>ds_municipio</th>\n",
       "      <th>ano_exercicio</th>\n",
       "      <th>RCL</th>\n",
       "    </tr>\n",
       "  </thead>\n",
       "  <tbody>\n",
       "    <tr>\n",
       "      <th>0</th>\n",
       "      <td>Adamantina</td>\n",
       "      <td>2010</td>\n",
       "      <td>69138047.0</td>\n",
       "    </tr>\n",
       "    <tr>\n",
       "      <th>1</th>\n",
       "      <td>Adamantina</td>\n",
       "      <td>2011</td>\n",
       "      <td>79386655.0</td>\n",
       "    </tr>\n",
       "    <tr>\n",
       "      <th>2</th>\n",
       "      <td>Adamantina</td>\n",
       "      <td>2012</td>\n",
       "      <td>82410359.0</td>\n",
       "    </tr>\n",
       "  </tbody>\n",
       "</table>\n",
       "</div>"
      ],
      "text/plain": [
       "  ds_municipio  ano_exercicio         RCL\n",
       "0   Adamantina           2010  69138047.0\n",
       "1   Adamantina           2011  79386655.0\n",
       "2   Adamantina           2012  82410359.0"
      ]
     },
     "metadata": {},
     "output_type": "display_data"
    }
   ],
   "source": [
    "info_municipios = pd.read_excel(\"Data/info_municipios.xlsx\")\n",
    "rcl_municipios = pd.read_excel(\"Data/rcl_municipios.xlsx\")\n",
    "display( info_municipios.head(3) )\n",
    "display( rcl_municipios.head(3) )"
   ]
  },
  {
   "cell_type": "markdown",
   "id": "3e0aadda-5c94-44a2-b0dc-00117e4d27c8",
   "metadata": {},
   "source": [
    "## Agrupamento de informações"
   ]
  },
  {
   "cell_type": "code",
   "execution_count": 6,
   "id": "d072c520-f263-47d3-97bc-475225c03dd2",
   "metadata": {},
   "outputs": [],
   "source": [
    "def dataframe_tolist(df, index_variables = [\"ds_municipio\", \"ds_orgao\", \"id_despesa\"], list_columns = [\"ano_exercicio\", \"vl_despesa\", \"RCL\"]):\n",
    "    # Tabela com apenas os índices\n",
    "    df_grouped = df.groupby(index_variables).size().reset_index().rename(columns = {0:\"tam_serie\"})\n",
    "    \n",
    "    for column in list_columns:\n",
    "        if(column in df.columns):\n",
    "            column_grouped = df.groupby(index_variables)[column].apply(lambda x : np.array(list(x))).reset_index()\n",
    "            df_grouped = df_grouped.merge(column_grouped, on = index_variables).reset_index(drop = True)\n",
    "    \n",
    "    return df_grouped\n",
    "\n",
    "def dataframe_explode(df_grouped, explode_candidates = [\"ano_exercicio\", \"vl_despesa\"]):\n",
    "    columns_to_explode = []\n",
    "    for column in explode_candidates:\n",
    "        if(column in df_grouped.columns):\n",
    "            columns_to_explode.append(column)\n",
    "    \n",
    "    df = df_grouped.explode(columns_to_explode)\n",
    "    \n",
    "    if(\"ano_exercicio\" in df.columns):\n",
    "        df.ano_exercicio = df.ano_exercicio.astype(int)\n",
    "    if(\"vl_despesa\" in df.columns):\n",
    "        df.vl_despesa = df.vl_despesa.astype(np.float64)\n",
    "    \n",
    "    return df"
   ]
  },
  {
   "cell_type": "code",
   "execution_count": 7,
   "id": "fdd3ec5d-6a3f-4a58-8e08-4be8600fee53",
   "metadata": {},
   "outputs": [
    {
     "data": {
      "text/html": [
       "<div>\n",
       "<style scoped>\n",
       "    .dataframe tbody tr th:only-of-type {\n",
       "        vertical-align: middle;\n",
       "    }\n",
       "\n",
       "    .dataframe tbody tr th {\n",
       "        vertical-align: top;\n",
       "    }\n",
       "\n",
       "    .dataframe thead th {\n",
       "        text-align: right;\n",
       "    }\n",
       "</style>\n",
       "<table border=\"1\" class=\"dataframe\">\n",
       "  <thead>\n",
       "    <tr style=\"text-align: right;\">\n",
       "      <th></th>\n",
       "      <th>ds_municipio</th>\n",
       "      <th>ds_orgao</th>\n",
       "      <th>id_despesa</th>\n",
       "      <th>tam_serie</th>\n",
       "      <th>ano_exercicio</th>\n",
       "      <th>vl_despesa</th>\n",
       "    </tr>\n",
       "  </thead>\n",
       "  <tbody>\n",
       "    <tr>\n",
       "      <th>0</th>\n",
       "      <td>Adamantina</td>\n",
       "      <td>CENTRO UNIVERSITÁRIO DE ADAMANTINA</td>\n",
       "      <td>0101</td>\n",
       "      <td>13</td>\n",
       "      <td>[2010, 2011, 2012, 2013, 2014, 2015, 2016, 201...</td>\n",
       "      <td>[190734.37, 179366.68, 152997.07, 106120.7, 11...</td>\n",
       "    </tr>\n",
       "    <tr>\n",
       "      <th>1</th>\n",
       "      <td>Adamantina</td>\n",
       "      <td>CENTRO UNIVERSITÁRIO DE ADAMANTINA</td>\n",
       "      <td>0301</td>\n",
       "      <td>13</td>\n",
       "      <td>[2010, 2011, 2012, 2013, 2014, 2015, 2016, 201...</td>\n",
       "      <td>[17023.42, 15945.619999999999, 16348.02, 15121...</td>\n",
       "    </tr>\n",
       "    <tr>\n",
       "      <th>2</th>\n",
       "      <td>Adamantina</td>\n",
       "      <td>CENTRO UNIVERSITÁRIO DE ADAMANTINA</td>\n",
       "      <td>1101</td>\n",
       "      <td>13</td>\n",
       "      <td>[2010, 2011, 2012, 2013, 2014, 2015, 2016, 201...</td>\n",
       "      <td>[8709720.42, 7975164.72, 7846700.39, 7857399.0...</td>\n",
       "    </tr>\n",
       "  </tbody>\n",
       "</table>\n",
       "</div>"
      ],
      "text/plain": [
       "  ds_municipio                            ds_orgao id_despesa  tam_serie  \\\n",
       "0   Adamantina  CENTRO UNIVERSITÁRIO DE ADAMANTINA       0101         13   \n",
       "1   Adamantina  CENTRO UNIVERSITÁRIO DE ADAMANTINA       0301         13   \n",
       "2   Adamantina  CENTRO UNIVERSITÁRIO DE ADAMANTINA       1101         13   \n",
       "\n",
       "                                       ano_exercicio  \\\n",
       "0  [2010, 2011, 2012, 2013, 2014, 2015, 2016, 201...   \n",
       "1  [2010, 2011, 2012, 2013, 2014, 2015, 2016, 201...   \n",
       "2  [2010, 2011, 2012, 2013, 2014, 2015, 2016, 201...   \n",
       "\n",
       "                                          vl_despesa  \n",
       "0  [190734.37, 179366.68, 152997.07, 106120.7, 11...  \n",
       "1  [17023.42, 15945.619999999999, 16348.02, 15121...  \n",
       "2  [8709720.42, 7975164.72, 7846700.39, 7857399.0...  "
      ]
     },
     "metadata": {},
     "output_type": "display_data"
    }
   ],
   "source": [
    "df_grouped = dataframe_tolist(df)\n",
    "display( df_grouped.head(3) )"
   ]
  },
  {
   "cell_type": "markdown",
   "id": "0e44969e-6e09-4d52-8390-3843eb7750ed",
   "metadata": {},
   "source": [
    "Já podemos construir gráficos temporais de cada despesa de cada órgão municipal a partir desta tabela de dados agrupados. Façamos uma função de construção do gráfico de uma determinada despesa."
   ]
  },
  {
   "cell_type": "code",
   "execution_count": 8,
   "id": "d2b9d3a8-f552-4b62-a7f1-17ccd70abb5a",
   "metadata": {},
   "outputs": [],
   "source": [
    "def plot_despesa(df, ds_orgao, id_despesa, ax = None, figsize = (12,6)):\n",
    "    df_aux = df.query(\"ds_orgao == '{}' & id_despesa == '{}'\".format(ds_orgao, id_despesa)).copy()\n",
    "    \n",
    "    if(ax is None):\n",
    "        fig, ax = plt.subplots(nrows = 1, ncols = 1, figsize = figsize)\n",
    "    \n",
    "    ax.plot(df_aux.ano_exercicio, df_aux.vl_despesa, \"o-\" )\n",
    "    ax.set_title(\"{} - {}\".format(ds_orgao.title(), id_despesa), fontsize = 16)\n",
    "    ax.grid()"
   ]
  },
  {
   "cell_type": "code",
   "execution_count": 9,
   "id": "8a5bf2d9-bd86-4349-b036-4733eb4e5de1",
   "metadata": {},
   "outputs": [
    {
     "data": {
      "image/png": "[encoded data removed]",
      "text/plain": [
       "<Figure size 864x432 with 1 Axes>"
      ]
     },
     "metadata": {
      "needs_background": "light"
     },
     "output_type": "display_data"
    }
   ],
   "source": [
    "plot_despesa(df, \"CENTRO UNIVERSITÁRIO DE ADAMANTINA\", \"0101\")"
   ]
  },
  {
   "cell_type": "markdown",
   "id": "fa6e132b-780e-40d0-b568-28ae3a374b6c",
   "metadata": {},
   "source": [
    "## Deflacionamento"
   ]
  },
  {
   "cell_type": "markdown",
   "id": "38344752-f502-4432-a70c-3ed40005aa55",
   "metadata": {},
   "source": [
    "Agora, gostaríamos de obter os preços relativos ao último ano da análise de forma a comparar os gastos proporcionalmente à inflação. Não faria sentido, por exemplo, gerarmos um alerta para um município cujo aumento das despesas se deu simplesmente pelo aumento dos preços gerais dos produtos (inflação). Espera-se que as anomalias serão identificadas mais facilmente com a remoção deste efeito dos preços.\n",
    "\n",
    "Para implementarmos a função de deflacionamento dos dados, façamos o uso da API de dados do IBGE Sidra. Os códigos que realizam essa consulta já são implementados na biblioteca ibgeapi, criada em uma pasta alternativa deste projeto.\n",
    "\n",
    "Considerando que temos o interesse em replicar os resultados da análise anterior, o deflacionamento será feito com base na consulta dos índices IPCA referentes ao mês 06 do ano em questão e ao último ano envolvido na análise, sendo este o período de referência para todos os preços."
   ]
  },
  {
   "cell_type": "code",
   "execution_count": 10,
   "id": "7e899451-f36a-42ad-8a7c-828f45ccbc39",
   "metadata": {},
   "outputs": [],
   "source": [
    "sys.path.insert(0, os.path.abspath(\"./..\"))\n",
    "from ibgeapi import ibgeapi"
   ]
  },
  {
   "cell_type": "code",
   "execution_count": 11,
   "id": "7767cd14-0b74-4da1-9881-b54c7ece5366",
   "metadata": {},
   "outputs": [
    {
     "data": {
      "text/html": [
       "<div>\n",
       "<style scoped>\n",
       "    .dataframe tbody tr th:only-of-type {\n",
       "        vertical-align: middle;\n",
       "    }\n",
       "\n",
       "    .dataframe tbody tr th {\n",
       "        vertical-align: top;\n",
       "    }\n",
       "\n",
       "    .dataframe thead th {\n",
       "        text-align: right;\n",
       "    }\n",
       "</style>\n",
       "<table border=\"1\" class=\"dataframe\">\n",
       "  <thead>\n",
       "    <tr style=\"text-align: right;\">\n",
       "      <th></th>\n",
       "      <th>ds_municipio</th>\n",
       "      <th>ds_orgao</th>\n",
       "      <th>id_despesa</th>\n",
       "      <th>ano_exercicio</th>\n",
       "      <th>vl_despesa</th>\n",
       "    </tr>\n",
       "  </thead>\n",
       "  <tbody>\n",
       "    <tr>\n",
       "      <th>0</th>\n",
       "      <td>Adamantina</td>\n",
       "      <td>CENTRO UNIVERSITÁRIO DE ADAMANTINA</td>\n",
       "      <td>0101</td>\n",
       "      <td>2010</td>\n",
       "      <td>3.958391e+05</td>\n",
       "    </tr>\n",
       "    <tr>\n",
       "      <th>1</th>\n",
       "      <td>Adamantina</td>\n",
       "      <td>CENTRO UNIVERSITÁRIO DE ADAMANTINA</td>\n",
       "      <td>0301</td>\n",
       "      <td>2010</td>\n",
       "      <td>3.532942e+04</td>\n",
       "    </tr>\n",
       "    <tr>\n",
       "      <th>2</th>\n",
       "      <td>Adamantina</td>\n",
       "      <td>CENTRO UNIVERSITÁRIO DE ADAMANTINA</td>\n",
       "      <td>1101</td>\n",
       "      <td>2010</td>\n",
       "      <td>1.807565e+07</td>\n",
       "    </tr>\n",
       "  </tbody>\n",
       "</table>\n",
       "</div>"
      ],
      "text/plain": [
       "  ds_municipio                            ds_orgao id_despesa  ano_exercicio  \\\n",
       "0   Adamantina  CENTRO UNIVERSITÁRIO DE ADAMANTINA       0101           2010   \n",
       "1   Adamantina  CENTRO UNIVERSITÁRIO DE ADAMANTINA       0301           2010   \n",
       "2   Adamantina  CENTRO UNIVERSITÁRIO DE ADAMANTINA       1101           2010   \n",
       "\n",
       "     vl_despesa  \n",
       "0  3.958391e+05  \n",
       "1  3.532942e+04  \n",
       "2  1.807565e+07  "
      ]
     },
     "metadata": {},
     "output_type": "display_data"
    },
    {
     "data": {
      "text/html": [
       "<div>\n",
       "<style scoped>\n",
       "    .dataframe tbody tr th:only-of-type {\n",
       "        vertical-align: middle;\n",
       "    }\n",
       "\n",
       "    .dataframe tbody tr th {\n",
       "        vertical-align: top;\n",
       "    }\n",
       "\n",
       "    .dataframe thead th {\n",
       "        text-align: right;\n",
       "    }\n",
       "</style>\n",
       "<table border=\"1\" class=\"dataframe\">\n",
       "  <thead>\n",
       "    <tr style=\"text-align: right;\">\n",
       "      <th></th>\n",
       "      <th>ds_municipio</th>\n",
       "      <th>ano_exercicio</th>\n",
       "      <th>RCL</th>\n",
       "      <th>RCL_defl</th>\n",
       "    </tr>\n",
       "  </thead>\n",
       "  <tbody>\n",
       "    <tr>\n",
       "      <th>0</th>\n",
       "      <td>Adamantina</td>\n",
       "      <td>2010</td>\n",
       "      <td>69138047.0</td>\n",
       "      <td>1.434851e+08</td>\n",
       "    </tr>\n",
       "    <tr>\n",
       "      <th>1</th>\n",
       "      <td>Adolfo</td>\n",
       "      <td>2010</td>\n",
       "      <td>12017792.0</td>\n",
       "      <td>2.494103e+07</td>\n",
       "    </tr>\n",
       "    <tr>\n",
       "      <th>2</th>\n",
       "      <td>Aguaí</td>\n",
       "      <td>2010</td>\n",
       "      <td>46123540.0</td>\n",
       "      <td>9.572213e+07</td>\n",
       "    </tr>\n",
       "  </tbody>\n",
       "</table>\n",
       "</div>"
      ],
      "text/plain": [
       "  ds_municipio  ano_exercicio         RCL      RCL_defl\n",
       "0   Adamantina           2010  69138047.0  1.434851e+08\n",
       "1       Adolfo           2010  12017792.0  2.494103e+07\n",
       "2        Aguaí           2010  46123540.0  9.572213e+07"
      ]
     },
     "metadata": {},
     "output_type": "display_data"
    }
   ],
   "source": [
    "# Todos os anos consultados\n",
    "anos = df.ano_exercicio.unique()\n",
    "\n",
    "# consulta_ipca(meses, anos, )\n",
    "ipca = np.array(ibgeapi.consulta_ipca(np.repeat(6, len(anos)), anos))\n",
    "ipca_ref = ipca[-1] # 2022\n",
    "df_ipca = pd.DataFrame({\"ano_exercicio\": anos, \"ipca\": ipca})\n",
    "\n",
    "df_defl = df.merge(df_ipca, on = \"ano_exercicio\").copy()\n",
    "df_defl[\"vl_despesa\"] = df_defl.vl_despesa * ipca_ref / df_defl.ipca\n",
    "df_defl = df_defl.drop(columns = \"ipca\")\n",
    "\n",
    "rcl_municipios = rcl_municipios.merge(df_ipca, on = \"ano_exercicio\")\n",
    "rcl_municipios[\"RCL_defl\"] = rcl_municipios.RCL * ipca_ref / rcl_municipios.ipca\n",
    "rcl_municipios = rcl_municipios.drop(columns = \"ipca\")\n",
    "\n",
    "display( df_defl.head(3) )\n",
    "display( rcl_municipios.head(3) )"
   ]
  },
  {
   "cell_type": "code",
   "execution_count": 12,
   "id": "2dcaf15a-04fb-475a-9e53-d143e77497ce",
   "metadata": {},
   "outputs": [],
   "source": [
    "df_defl.to_parquet(\"Data/data2010to2022_deflated.parquet\")\n",
    "rcl_municipios.to_excel(\"Data/rcl_municipios_deflated.xlsx\", index = False)"
   ]
  },
  {
   "cell_type": "code",
   "execution_count": 13,
   "id": "ade1c05b-8605-41dd-ac9a-23a330025201",
   "metadata": {},
   "outputs": [
    {
     "data": {
      "image/png": "[encoded data removed]",
      "text/plain": [
       "<Figure size 864x432 with 1 Axes>"
      ]
     },
     "metadata": {
      "needs_background": "light"
     },
     "output_type": "display_data"
    }
   ],
   "source": [
    "fig, ax = plt.subplots(nrows = 1, ncols = 1, figsize = (12,6))\n",
    "\n",
    "plot_despesa(df, \"CENTRO UNIVERSITÁRIO DE ADAMANTINA\", \"0101\", ax = ax)\n",
    "plot_despesa(df_defl, \"CENTRO UNIVERSITÁRIO DE ADAMANTINA\", \"0101\", ax = ax)\n",
    "ax.grid()"
   ]
  },
  {
   "cell_type": "code",
   "execution_count": 14,
   "id": "c108b11d-4714-4ce2-86fe-f0bd36786f7c",
   "metadata": {},
   "outputs": [],
   "source": [
    "df_municipios = df.groupby([\"ds_municipio\", \"ano_exercicio\"]).agg({\"vl_despesa\": \"sum\"}).reset_index()\n",
    "df_municipios_defl = df_defl.groupby([\"ds_municipio\", \"ano_exercicio\"]).agg({\"vl_despesa\": \"sum\"}).reset_index()"
   ]
  },
  {
   "cell_type": "code",
   "execution_count": 15,
   "id": "d69822db-a3b9-44ff-95c4-c084de1e2675",
   "metadata": {},
   "outputs": [
    {
     "data": {
      "image/png": "[encoded data removed]",
      "text/plain": [
       "<Figure size 864x432 with 2 Axes>"
      ]
     },
     "metadata": {
      "needs_background": "light"
     },
     "output_type": "display_data"
    }
   ],
   "source": [
    "fig, ax = plt.subplots(nrows = 1, ncols = 2, figsize = (12,6))\n",
    "\n",
    "sns.lineplot(data = df_municipios, x = \"ano_exercicio\", y = \"vl_despesa\", hue = \"ds_municipio\", legend = False, ax = ax[0])\n",
    "sns.scatterplot(data = df_municipios, x = \"ano_exercicio\", y = \"vl_despesa\", hue = \"ds_municipio\", legend = False, ax = ax[0])\n",
    "ax[0].grid()\n",
    "\n",
    "sns.lineplot(data = df_municipios_defl, x = \"ano_exercicio\", y = \"vl_despesa\", hue = \"ds_municipio\", legend = False, ax = ax[1])\n",
    "sns.scatterplot(data = df_municipios_defl, x = \"ano_exercicio\", y = \"vl_despesa\", hue = \"ds_municipio\", legend = False, ax = ax[1])\n",
    "ax[1].grid()\n",
    "\n",
    "plt.show()"
   ]
  },
  {
   "cell_type": "markdown",
   "id": "ebdfc7dc-08d9-49c0-8dc4-6449c646351e",
   "metadata": {},
   "source": [
    "Como podemos ver, de fato as séries globais de despesas dos municípios apresentavam tendências de crescimento anual causadas pela inflação. É evidente que essas séries passaram a apresentar um padrão consideravelmente mais estável após o deflacionamento."
   ]
  },
  {
   "cell_type": "markdown",
   "id": "7fbb93b3-4906-44ec-9d44-3a851af2060d",
   "metadata": {},
   "source": [
    "## Padronização de dados"
   ]
  },
  {
   "cell_type": "markdown",
   "id": "8e824a72-f2fe-49be-8277-4f8e7c4ee1e0",
   "metadata": {},
   "source": [
    "Agora, façamos algumas funções para o tratamento das séries observadas como valores padronizados, apresentando média zero e desvio padrão unitário. Essa representação é interessante para que possam ser feitas comparações entre os padrões de gasto de municípios de diferentes portes. Com a análise de agrupamento futura, ao utilizarmos as séries padronizadas podemos identificar que a cidade de Campinas apresenta padrões de gastos de despesas muito similares à cidade de São Carlos, por exemplo. Algo que dificilmente seria identificado com os dados em suas dimensões originais, nos quais municípios seriam segmentados simplesmente por suas dimensões financeiras."
   ]
  },
  {
   "cell_type": "code",
   "execution_count": 16,
   "id": "86cf4336-e40d-4e3a-a86a-cb539e3e25e0",
   "metadata": {},
   "outputs": [],
   "source": [
    "class Padronizacao:\n",
    "    \n",
    "    def __init__(self):\n",
    "        pass\n",
    "    \n",
    "    def fit_despesa(self, df_grouped):\n",
    "        '''\n",
    "            Recebe uma tabela a ser redimensionada e computa todos so valores necessários para a normalização da despesa.\n",
    "        '''\n",
    "        # Percorre os grupos, salvando os valores de mínimo e máximo de cada despesa identificada na tabela\n",
    "        mean_despesa = df_grouped.vl_despesa.apply(lambda x : np.mean(x))\n",
    "        sd_despesa = df_grouped.vl_despesa.apply(lambda x : std(x))\n",
    "\n",
    "        # Cria um DataFrame com as informações necessárias para a realização do redimensionamento dos dados\n",
    "        meansd_info = df_grouped.loc[:,[\"ds_municipio\", \"ds_orgao\", \"subelemento_cod\"]]\n",
    "        meansd_info[\"mean_despesa\"] = mean_despesa\n",
    "        meansd_info[\"sd_despesa\"] = sd_despesa\n",
    "\n",
    "        self.meansd_info_despesa = meansd_info"
   ]
  },
  {
   "cell_type": "code",
   "execution_count": 17,
   "id": "642486ae-212c-444f-8869-651ba5811996",
   "metadata": {},
   "outputs": [],
   "source": [
    "class Padronizacao:\n",
    "    \n",
    "    def fit_despesa(self, df_grouped, index_variables = [\"ds_municipio\", \"ds_orgao\", \"id_despesa\"]):\n",
    "        '''\n",
    "            Recebe uma tabela a ser redimensionada e computa todos so valores necessários para a normalização da despesa.\n",
    "        '''\n",
    "        # Percorre os grupos, salvando os valores de mínimo e máximo de cada despesa identificada na tabela\n",
    "        mean_despesa = df_grouped.vl_despesa.apply( lambda x : np.mean(x) )\n",
    "        sd_despesa = df_grouped.vl_despesa.apply( lambda x : 0 if len(x) == 1 else np.std(x) * len(x)/(len(x)-1) )\n",
    "\n",
    "        # Cria um DataFrame com as informações necessárias para a realização do redimensionamento dos dados\n",
    "        meansd_info = df_grouped.loc[:, index_variables]\n",
    "        meansd_info[\"mean_despesa\"] = mean_despesa\n",
    "        meansd_info[\"sd_despesa\"] = sd_despesa\n",
    "\n",
    "        self.meansd_info_despesa = meansd_info\n",
    "            \n",
    "    def transform_despesa(self, df_grouped, index_variables = [\"ds_municipio\", \"ds_orgao\", \"id_despesa\"], keep_all = False):\n",
    "        '''\n",
    "            Recebe a tabela e transforma apenas os dados de despesa.\n",
    "        '''\n",
    "        # Cria uma tabela auxiliar apenas com as informações úteis para o método\n",
    "        df_grouped_aux = (\n",
    "            df_grouped.loc[:, index_variables + [\"ano_exercicio\", \"vl_despesa\"]].\n",
    "            merge(self.meansd_info_despesa, on = index_variables).\n",
    "            reset_index(drop = True)\n",
    "        )\n",
    "        \n",
    "        # Aplica a função de padronização para cada linha da tabela\n",
    "        df_grouped_aux[\"vl_despesa\"] = df_grouped_aux.loc[:,[\"vl_despesa\", \"mean_despesa\", \"sd_despesa\"]].apply(\n",
    "            lambda x : (np.array(x[0]) - x[1]) / x[2] if x[2] != 0 else None,\n",
    "            axis = 1\n",
    "        )\n",
    "        \n",
    "        # Se deseja-se manter todas as observações, inclusive as que não foram transformadas por falta de informação\n",
    "        if(keep_all):\n",
    "            return df_grouped_aux.loc[:, index_variables + [\"ano_exercicio\", \"vl_despesa\"]]\n",
    "            \n",
    "        # Se a variância de uma determinada série for igual a zero exibe um aviso\n",
    "        if(df_grouped_aux.vl_despesa.isna().any()):\n",
    "            print(\"*** Séries com informações insuficientes removidas automaticamente ***\")\n",
    "\n",
    "        return df_grouped_aux.loc[\n",
    "            df_grouped_aux[\"vl_despesa\"].notna(), index_variables + [\"ano_exercicio\", \"vl_despesa\"]\n",
    "        ]\n",
    "    \n",
    "    def rescale_despesa(self, df_grouped_scaled, index_variables = [\"ds_municipio\", \"ds_orgao\", \"id_despesa\"], rescale_variables = [\"vl_despesa\"]):\n",
    "        '''\n",
    "            Recebe uma tabela com as informações de despesa na escala padronizada e os retorna na escala original segundo\n",
    "            os seus respectivos índices (ds_municipio, ds_orgao, subelemento_cod)\n",
    "        '''\n",
    "        \n",
    "        df_grouped_scaled_aux = (\n",
    "            df_grouped_scaled.loc[:, index_variables + [\"ano_exercicio\"] + rescale_variables].\n",
    "            merge(\n",
    "                self.meansd_info_despesa, on = index_variables\n",
    "            )\n",
    "        )\n",
    "        \n",
    "        for v in rescale_variables:\n",
    "            df_grouped_scaled_aux[ v ] = df_grouped_scaled_aux.loc[:,[v, \"mean_despesa\", \"sd_despesa\"]].apply(\n",
    "                lambda x : x[0] * x[2] + x[1],\n",
    "                axis = 1)\n",
    "        \n",
    "        return df_grouped_scaled_aux.loc[:, index_variables + [\"ano_exercicio\"] + rescale_variables]"
   ]
  },
  {
   "cell_type": "code",
   "execution_count": 18,
   "id": "b04c7021-63d1-4126-a3b7-97d10fe17623",
   "metadata": {},
   "outputs": [],
   "source": [
    "df_defl_grouped = dataframe_tolist(df_defl)"
   ]
  },
  {
   "cell_type": "code",
   "execution_count": 19,
   "id": "54173d44-40af-43ce-8acf-d185e079b560",
   "metadata": {},
   "outputs": [
    {
     "name": "stdout",
     "output_type": "stream",
     "text": [
      "*** Séries com informações insuficientes removidas automaticamente ***\n"
     ]
    }
   ],
   "source": [
    "padr = Padronizacao()\n",
    "padr.fit_despesa(df_defl_grouped)\n",
    "\n",
    "df_defl_scaled_grouped = padr.transform_despesa(df_defl_grouped, keep_all = False)"
   ]
  },
  {
   "cell_type": "code",
   "execution_count": 20,
   "id": "e133c8dd-e09d-45a3-a30c-2a098013d843",
   "metadata": {},
   "outputs": [
    {
     "data": {
      "text/html": [
       "<div>\n",
       "<style scoped>\n",
       "    .dataframe tbody tr th:only-of-type {\n",
       "        vertical-align: middle;\n",
       "    }\n",
       "\n",
       "    .dataframe tbody tr th {\n",
       "        vertical-align: top;\n",
       "    }\n",
       "\n",
       "    .dataframe thead th {\n",
       "        text-align: right;\n",
       "    }\n",
       "</style>\n",
       "<table border=\"1\" class=\"dataframe\">\n",
       "  <thead>\n",
       "    <tr style=\"text-align: right;\">\n",
       "      <th></th>\n",
       "      <th>ds_municipio</th>\n",
       "      <th>ds_orgao</th>\n",
       "      <th>id_despesa</th>\n",
       "      <th>ano_exercicio</th>\n",
       "      <th>vl_despesa</th>\n",
       "    </tr>\n",
       "  </thead>\n",
       "  <tbody>\n",
       "    <tr>\n",
       "      <th>0</th>\n",
       "      <td>Adamantina</td>\n",
       "      <td>CENTRO UNIVERSITÁRIO DE ADAMANTINA</td>\n",
       "      <td>0101</td>\n",
       "      <td>[2010, 2011, 2012, 2013, 2014, 2015, 2016, 201...</td>\n",
       "      <td>[395839.08734400827, 348831.7335415946, 283607...</td>\n",
       "    </tr>\n",
       "    <tr>\n",
       "      <th>1</th>\n",
       "      <td>Adamantina</td>\n",
       "      <td>CENTRO UNIVERSITÁRIO DE ADAMANTINA</td>\n",
       "      <td>0301</td>\n",
       "      <td>[2010, 2011, 2012, 2013, 2014, 2015, 2016, 201...</td>\n",
       "      <td>[35329.42194043861, 31010.989705532375, 30304....</td>\n",
       "    </tr>\n",
       "    <tr>\n",
       "      <th>2</th>\n",
       "      <td>Adamantina</td>\n",
       "      <td>CENTRO UNIVERSITÁRIO DE ADAMANTINA</td>\n",
       "      <td>1101</td>\n",
       "      <td>[2010, 2011, 2012, 2013, 2014, 2015, 2016, 201...</td>\n",
       "      <td>[18075650.351188786, 15510074.304532843, 14545...</td>\n",
       "    </tr>\n",
       "    <tr>\n",
       "      <th>3</th>\n",
       "      <td>Adamantina</td>\n",
       "      <td>CENTRO UNIVERSITÁRIO DE ADAMANTINA</td>\n",
       "      <td>1102</td>\n",
       "      <td>[2016, 2019]</td>\n",
       "      <td>[331.9439029199056, 469.8634852050239]</td>\n",
       "    </tr>\n",
       "    <tr>\n",
       "      <th>4</th>\n",
       "      <td>Adamantina</td>\n",
       "      <td>CENTRO UNIVERSITÁRIO DE ADAMANTINA</td>\n",
       "      <td>1104</td>\n",
       "      <td>[2020, 2021, 2022]</td>\n",
       "      <td>[15686.833216097759, 328954.3784387468, 378339...</td>\n",
       "    </tr>\n",
       "  </tbody>\n",
       "</table>\n",
       "</div>"
      ],
      "text/plain": [
       "  ds_municipio                            ds_orgao id_despesa  \\\n",
       "0   Adamantina  CENTRO UNIVERSITÁRIO DE ADAMANTINA       0101   \n",
       "1   Adamantina  CENTRO UNIVERSITÁRIO DE ADAMANTINA       0301   \n",
       "2   Adamantina  CENTRO UNIVERSITÁRIO DE ADAMANTINA       1101   \n",
       "3   Adamantina  CENTRO UNIVERSITÁRIO DE ADAMANTINA       1102   \n",
       "4   Adamantina  CENTRO UNIVERSITÁRIO DE ADAMANTINA       1104   \n",
       "\n",
       "                                       ano_exercicio  \\\n",
       "0  [2010, 2011, 2012, 2013, 2014, 2015, 2016, 201...   \n",
       "1  [2010, 2011, 2012, 2013, 2014, 2015, 2016, 201...   \n",
       "2  [2010, 2011, 2012, 2013, 2014, 2015, 2016, 201...   \n",
       "3                                       [2016, 2019]   \n",
       "4                                 [2020, 2021, 2022]   \n",
       "\n",
       "                                          vl_despesa  \n",
       "0  [395839.08734400827, 348831.7335415946, 283607...  \n",
       "1  [35329.42194043861, 31010.989705532375, 30304....  \n",
       "2  [18075650.351188786, 15510074.304532843, 14545...  \n",
       "3             [331.9439029199056, 469.8634852050239]  \n",
       "4  [15686.833216097759, 328954.3784387468, 378339...  "
      ]
     },
     "execution_count": 20,
     "metadata": {},
     "output_type": "execute_result"
    }
   ],
   "source": [
    "df_defl_recovered_grouped = padr.rescale_despesa(df_defl_scaled_grouped)\n",
    "df_defl_recovered_grouped.head()"
   ]
  },
  {
   "cell_type": "markdown",
   "id": "154a4d1f-3750-420c-82e5-490fc69dce43",
   "metadata": {},
   "source": [
    "## Análise de Agrupamento"
   ]
  },
  {
   "cell_type": "markdown",
   "id": "f1063eef-da09-42b1-aafd-759812112321",
   "metadata": {},
   "source": [
    "De modo a encontrarmos agrupamentos de municípios, façamos a padronização das despesas globais de cada município, obtidas a partir dos dados de todas as despesas agrupadas. Veja que fazendo isto estamos procurando encontrar similaridades entre municípios, independentemente de quais despesas os mesmos possuem.\n",
    "\n",
    "Para esta análise serão utilizados apenas os dados de 2011 a 2021, uma vez que a análise inicial foi feita com base nestas observações. (algumas cidades não tem informações sobre o RCL neste ano. Na época era desejada a predição para o ano de 2019, portanto houve o uso de dados futuros a esta data para encontrar os agrupamentos. Na análise atual, usaremos esta configuração pois temos o interesse nas predições para 2022)."
   ]
  },
  {
   "cell_type": "code",
   "execution_count": 21,
   "id": "afa4294d-4c8e-4127-b4dd-5dd8e4da6765",
   "metadata": {},
   "outputs": [
    {
     "data": {
      "text/html": [
       "<div>\n",
       "<style scoped>\n",
       "    .dataframe tbody tr th:only-of-type {\n",
       "        vertical-align: middle;\n",
       "    }\n",
       "\n",
       "    .dataframe tbody tr th {\n",
       "        vertical-align: top;\n",
       "    }\n",
       "\n",
       "    .dataframe thead th {\n",
       "        text-align: right;\n",
       "    }\n",
       "</style>\n",
       "<table border=\"1\" class=\"dataframe\">\n",
       "  <thead>\n",
       "    <tr style=\"text-align: right;\">\n",
       "      <th></th>\n",
       "      <th>ds_municipio</th>\n",
       "      <th>tam_serie</th>\n",
       "      <th>ano_exercicio</th>\n",
       "      <th>vl_despesa</th>\n",
       "    </tr>\n",
       "  </thead>\n",
       "  <tbody>\n",
       "    <tr>\n",
       "      <th>0</th>\n",
       "      <td>Adamantina</td>\n",
       "      <td>11</td>\n",
       "      <td>[2011, 2012, 2013, 2014, 2015, 2016, 2017, 201...</td>\n",
       "      <td>[151044297.23799145, 150500494.02520344, 14947...</td>\n",
       "    </tr>\n",
       "    <tr>\n",
       "      <th>1</th>\n",
       "      <td>Adolfo</td>\n",
       "      <td>11</td>\n",
       "      <td>[2011, 2012, 2013, 2014, 2015, 2016, 2017, 201...</td>\n",
       "      <td>[23833365.54314139, 31789045.037393905, 263341...</td>\n",
       "    </tr>\n",
       "    <tr>\n",
       "      <th>2</th>\n",
       "      <td>Aguaí</td>\n",
       "      <td>11</td>\n",
       "      <td>[2011, 2012, 2013, 2014, 2015, 2016, 2017, 201...</td>\n",
       "      <td>[98040095.66825669, 90632768.17826383, 9294361...</td>\n",
       "    </tr>\n",
       "  </tbody>\n",
       "</table>\n",
       "</div>"
      ],
      "text/plain": [
       "  ds_municipio  tam_serie                                      ano_exercicio  \\\n",
       "0   Adamantina         11  [2011, 2012, 2013, 2014, 2015, 2016, 2017, 201...   \n",
       "1       Adolfo         11  [2011, 2012, 2013, 2014, 2015, 2016, 2017, 201...   \n",
       "2        Aguaí         11  [2011, 2012, 2013, 2014, 2015, 2016, 2017, 201...   \n",
       "\n",
       "                                          vl_despesa  \n",
       "0  [151044297.23799145, 150500494.02520344, 14947...  \n",
       "1  [23833365.54314139, 31789045.037393905, 263341...  \n",
       "2  [98040095.66825669, 90632768.17826383, 9294361...  "
      ]
     },
     "metadata": {},
     "output_type": "display_data"
    }
   ],
   "source": [
    "df_municipios_defl_grouped = dataframe_tolist(df_municipios_defl.query(\"ano_exercicio >= 2011 & ano_exercicio <= 2021\"),\n",
    "                                              index_variables = [\"ds_municipio\"], list_columns = [\"ano_exercicio\", \"vl_despesa\"])\n",
    "display( df_municipios_defl_grouped.head(3) )"
   ]
  },
  {
   "cell_type": "code",
   "execution_count": 22,
   "id": "5d10372a-9242-4531-9a1f-324cb5d2133a",
   "metadata": {},
   "outputs": [
    {
     "name": "stdout",
     "output_type": "stream",
     "text": [
      "Número de municípios: 644\n"
     ]
    },
    {
     "data": {
      "text/html": [
       "<div>\n",
       "<style scoped>\n",
       "    .dataframe tbody tr th:only-of-type {\n",
       "        vertical-align: middle;\n",
       "    }\n",
       "\n",
       "    .dataframe tbody tr th {\n",
       "        vertical-align: top;\n",
       "    }\n",
       "\n",
       "    .dataframe thead th {\n",
       "        text-align: right;\n",
       "    }\n",
       "</style>\n",
       "<table border=\"1\" class=\"dataframe\">\n",
       "  <thead>\n",
       "    <tr style=\"text-align: right;\">\n",
       "      <th></th>\n",
       "      <th>ds_municipio</th>\n",
       "      <th>ano_exercicio</th>\n",
       "      <th>vl_despesa</th>\n",
       "    </tr>\n",
       "  </thead>\n",
       "  <tbody>\n",
       "    <tr>\n",
       "      <th>0</th>\n",
       "      <td>Adamantina</td>\n",
       "      <td>[2011, 2012, 2013, 2014, 2015, 2016, 2017, 201...</td>\n",
       "      <td>[-0.9814178891814148, -1.0255636066672233, -1....</td>\n",
       "    </tr>\n",
       "    <tr>\n",
       "      <th>1</th>\n",
       "      <td>Adolfo</td>\n",
       "      <td>[2011, 2012, 2013, 2014, 2015, 2016, 2017, 201...</td>\n",
       "      <td>[-1.353375030863864, 1.4481337223092756, -0.47...</td>\n",
       "    </tr>\n",
       "    <tr>\n",
       "      <th>2</th>\n",
       "      <td>Aguaí</td>\n",
       "      <td>[2011, 2012, 2013, 2014, 2015, 2016, 2017, 201...</td>\n",
       "      <td>[0.5968534245469198, -1.2453765265450114, -0.6...</td>\n",
       "    </tr>\n",
       "  </tbody>\n",
       "</table>\n",
       "</div>"
      ],
      "text/plain": [
       "  ds_municipio                                      ano_exercicio  \\\n",
       "0   Adamantina  [2011, 2012, 2013, 2014, 2015, 2016, 2017, 201...   \n",
       "1       Adolfo  [2011, 2012, 2013, 2014, 2015, 2016, 2017, 201...   \n",
       "2        Aguaí  [2011, 2012, 2013, 2014, 2015, 2016, 2017, 201...   \n",
       "\n",
       "                                          vl_despesa  \n",
       "0  [-0.9814178891814148, -1.0255636066672233, -1....  \n",
       "1  [-1.353375030863864, 1.4481337223092756, -0.47...  \n",
       "2  [0.5968534245469198, -1.2453765265450114, -0.6...  "
      ]
     },
     "metadata": {},
     "output_type": "display_data"
    }
   ],
   "source": [
    "padr_municipios = Padronizacao()\n",
    "padr_municipios.fit_despesa(df_municipios_defl_grouped, index_variables = [\"ds_municipio\"])\n",
    "df_municipios_defl_scaled_grouped = padr_municipios.transform_despesa(df_municipios_defl_grouped,\n",
    "                                                                       index_variables = [\"ds_municipio\"], keep_all = False)\n",
    "\n",
    "print(\"Número de municípios: {}\".format(len(df_municipios_defl_scaled_grouped.ds_municipio)))\n",
    "display( df_municipios_defl_scaled_grouped.head(3) )"
   ]
  },
  {
   "cell_type": "markdown",
   "id": "46b6fa2d-921a-4528-b23a-f18004abbfd5",
   "metadata": {},
   "source": [
    "Agora, basta unirmos as outras variáveis à tabela de dados, as quais serão padronizadas entre os próprios municípios, já que não dependem do tempo."
   ]
  },
  {
   "cell_type": "code",
   "execution_count": 23,
   "id": "99a61a41-77bc-4899-8b7f-1b87d69923a9",
   "metadata": {},
   "outputs": [
    {
     "data": {
      "text/html": [
       "<div>\n",
       "<style scoped>\n",
       "    .dataframe tbody tr th:only-of-type {\n",
       "        vertical-align: middle;\n",
       "    }\n",
       "\n",
       "    .dataframe tbody tr th {\n",
       "        vertical-align: top;\n",
       "    }\n",
       "\n",
       "    .dataframe thead th {\n",
       "        text-align: right;\n",
       "    }\n",
       "</style>\n",
       "<table border=\"1\" class=\"dataframe\">\n",
       "  <thead>\n",
       "    <tr style=\"text-align: right;\">\n",
       "      <th></th>\n",
       "      <th>ds_municipio</th>\n",
       "      <th>pib_nominal</th>\n",
       "      <th>populacao</th>\n",
       "      <th>atividade_principal</th>\n",
       "      <th>quantidade_total_vagas</th>\n",
       "      <th>vereadores</th>\n",
       "      <th>area</th>\n",
       "      <th>alunos_escola</th>\n",
       "    </tr>\n",
       "  </thead>\n",
       "  <tbody>\n",
       "    <tr>\n",
       "      <th>0</th>\n",
       "      <td>Adamantina</td>\n",
       "      <td>-0.173311</td>\n",
       "      <td>-0.139320</td>\n",
       "      <td>Demais serviços</td>\n",
       "      <td>0.014427</td>\n",
       "      <td>-0.538436</td>\n",
       "      <td>0.089647</td>\n",
       "      <td>-0.245825</td>\n",
       "    </tr>\n",
       "    <tr>\n",
       "      <th>1</th>\n",
       "      <td>Adolfo</td>\n",
       "      <td>-0.317042</td>\n",
       "      <td>-0.400436</td>\n",
       "      <td>Agricultura, inclusive apoio à agricultura e a...</td>\n",
       "      <td>-0.367217</td>\n",
       "      <td>-0.538436</td>\n",
       "      <td>-0.540725</td>\n",
       "      <td>-0.451228</td>\n",
       "    </tr>\n",
       "    <tr>\n",
       "      <th>2</th>\n",
       "      <td>Aguaí</td>\n",
       "      <td>-0.190146</td>\n",
       "      <td>-0.131591</td>\n",
       "      <td>Demais serviços</td>\n",
       "      <td>-0.116825</td>\n",
       "      <td>0.694462</td>\n",
       "      <td>0.288214</td>\n",
       "      <td>-0.122430</td>\n",
       "    </tr>\n",
       "  </tbody>\n",
       "</table>\n",
       "</div>"
      ],
      "text/plain": [
       "  ds_municipio  pib_nominal  populacao  \\\n",
       "0   Adamantina    -0.173311  -0.139320   \n",
       "1       Adolfo    -0.317042  -0.400436   \n",
       "2        Aguaí    -0.190146  -0.131591   \n",
       "\n",
       "                                 atividade_principal  quantidade_total_vagas  \\\n",
       "0                                    Demais serviços                0.014427   \n",
       "1  Agricultura, inclusive apoio à agricultura e a...               -0.367217   \n",
       "2                                    Demais serviços               -0.116825   \n",
       "\n",
       "   vereadores      area  alunos_escola  \n",
       "0   -0.538436  0.089647      -0.245825  \n",
       "1   -0.538436 -0.540725      -0.451228  \n",
       "2    0.694462  0.288214      -0.122430  "
      ]
     },
     "metadata": {},
     "output_type": "display_data"
    }
   ],
   "source": [
    "colunas_padronizacao = [\"pib_nominal\", \"populacao\", \"quantidade_total_vagas\", \"vereadores\", \"area\", \"alunos_escola\"]\n",
    "info_municipios_scaled = info_municipios.copy()\n",
    "\n",
    "for coluna in colunas_padronizacao:\n",
    "    values_coluna = info_municipios[coluna]\n",
    "    info_municipios_scaled[coluna] = (values_coluna - np.mean(values_coluna)) / (np.std(values_coluna) * len(values_coluna)/(len(values_coluna)-1))\n",
    "display( info_municipios_scaled.head(3) )"
   ]
  },
  {
   "cell_type": "code",
   "execution_count": 24,
   "id": "8842ff51-4d67-432e-8756-1d286bb81125",
   "metadata": {},
   "outputs": [
    {
     "data": {
      "text/html": [
       "<div>\n",
       "<style scoped>\n",
       "    .dataframe tbody tr th:only-of-type {\n",
       "        vertical-align: middle;\n",
       "    }\n",
       "\n",
       "    .dataframe tbody tr th {\n",
       "        vertical-align: top;\n",
       "    }\n",
       "\n",
       "    .dataframe thead th {\n",
       "        text-align: right;\n",
       "    }\n",
       "</style>\n",
       "<table border=\"1\" class=\"dataframe\">\n",
       "  <thead>\n",
       "    <tr style=\"text-align: right;\">\n",
       "      <th></th>\n",
       "      <th>ds_municipio</th>\n",
       "      <th>RCL</th>\n",
       "    </tr>\n",
       "  </thead>\n",
       "  <tbody>\n",
       "    <tr>\n",
       "      <th>0</th>\n",
       "      <td>Adamantina</td>\n",
       "      <td>[-1.170744333028342, -1.1053294995977767, -0.9...</td>\n",
       "    </tr>\n",
       "    <tr>\n",
       "      <th>1</th>\n",
       "      <td>Adolfo</td>\n",
       "      <td>[-1.3488149570155683, -1.1495556931890478, -0....</td>\n",
       "    </tr>\n",
       "    <tr>\n",
       "      <th>2</th>\n",
       "      <td>Aguaí</td>\n",
       "      <td>[-1.2526349806887835, -1.148311635069227, -0.6...</td>\n",
       "    </tr>\n",
       "  </tbody>\n",
       "</table>\n",
       "</div>"
      ],
      "text/plain": [
       "  ds_municipio                                                RCL\n",
       "0   Adamantina  [-1.170744333028342, -1.1053294995977767, -0.9...\n",
       "1       Adolfo  [-1.3488149570155683, -1.1495556931890478, -0....\n",
       "2        Aguaí  [-1.2526349806887835, -1.148311635069227, -0.6..."
      ]
     },
     "metadata": {},
     "output_type": "display_data"
    }
   ],
   "source": [
    "rcl_municipios_grouped = dataframe_tolist(rcl_municipios.query(\"ano_exercicio >= 2011 & ano_exercicio <= 2021\"),\n",
    "                                          index_variables = [\"ds_municipio\"], list_columns = [\"ano_exercicio\", \"RCL\"])\n",
    "\n",
    "rcl_municipios_grouped_scaled = rcl_municipios_grouped.filter([\"ds_municipio\", \"RCL\"]).copy()\n",
    "rcl_municipios_grouped_scaled.loc[:,\"RCL\"] = rcl_municipios_grouped.RCL.apply(lambda x : (x - np.mean(x))/(np.std(x) * len(x)/(len(x)-1)))\n",
    "display( rcl_municipios_grouped_scaled.head(3) )"
   ]
  },
  {
   "cell_type": "code",
   "execution_count": 26,
   "id": "d3a39196-37f1-41b8-be04-af647b715aed",
   "metadata": {},
   "outputs": [
    {
     "data": {
      "text/html": [
       "<div>\n",
       "<style scoped>\n",
       "    .dataframe tbody tr th:only-of-type {\n",
       "        vertical-align: middle;\n",
       "    }\n",
       "\n",
       "    .dataframe tbody tr th {\n",
       "        vertical-align: top;\n",
       "    }\n",
       "\n",
       "    .dataframe thead th {\n",
       "        text-align: right;\n",
       "    }\n",
       "</style>\n",
       "<table border=\"1\" class=\"dataframe\">\n",
       "  <thead>\n",
       "    <tr style=\"text-align: right;\">\n",
       "      <th></th>\n",
       "      <th>ds_municipio</th>\n",
       "      <th>ano_exercicio</th>\n",
       "      <th>vl_despesa</th>\n",
       "      <th>RCL</th>\n",
       "      <th>pib_nominal</th>\n",
       "      <th>populacao</th>\n",
       "      <th>quantidade_total_vagas</th>\n",
       "      <th>vereadores</th>\n",
       "      <th>area</th>\n",
       "      <th>alunos_escola</th>\n",
       "    </tr>\n",
       "  </thead>\n",
       "  <tbody>\n",
       "    <tr>\n",
       "      <th>0</th>\n",
       "      <td>Adamantina</td>\n",
       "      <td>[2011, 2012, 2013, 2014, 2015, 2016, 2017, 201...</td>\n",
       "      <td>[-0.9814178891814148, -1.0255636066672233, -1....</td>\n",
       "      <td>[-1.170744333028342, -1.1053294995977767, -0.9...</td>\n",
       "      <td>-0.173311</td>\n",
       "      <td>-0.139320</td>\n",
       "      <td>0.014427</td>\n",
       "      <td>-0.538436</td>\n",
       "      <td>0.089647</td>\n",
       "      <td>-0.245825</td>\n",
       "    </tr>\n",
       "    <tr>\n",
       "      <th>1</th>\n",
       "      <td>Adolfo</td>\n",
       "      <td>[2011, 2012, 2013, 2014, 2015, 2016, 2017, 201...</td>\n",
       "      <td>[-1.353375030863864, 1.4481337223092756, -0.47...</td>\n",
       "      <td>[-1.3488149570155683, -1.1495556931890478, -0....</td>\n",
       "      <td>-0.317042</td>\n",
       "      <td>-0.400436</td>\n",
       "      <td>-0.367217</td>\n",
       "      <td>-0.538436</td>\n",
       "      <td>-0.540725</td>\n",
       "      <td>-0.451228</td>\n",
       "    </tr>\n",
       "    <tr>\n",
       "      <th>2</th>\n",
       "      <td>Aguaí</td>\n",
       "      <td>[2011, 2012, 2013, 2014, 2015, 2016, 2017, 201...</td>\n",
       "      <td>[0.5968534245469198, -1.2453765265450114, -0.6...</td>\n",
       "      <td>[-1.2526349806887835, -1.148311635069227, -0.6...</td>\n",
       "      <td>-0.190146</td>\n",
       "      <td>-0.131591</td>\n",
       "      <td>-0.116825</td>\n",
       "      <td>0.694462</td>\n",
       "      <td>0.288214</td>\n",
       "      <td>-0.122430</td>\n",
       "    </tr>\n",
       "  </tbody>\n",
       "</table>\n",
       "</div>"
      ],
      "text/plain": [
       "  ds_municipio                                      ano_exercicio  \\\n",
       "0   Adamantina  [2011, 2012, 2013, 2014, 2015, 2016, 2017, 201...   \n",
       "1       Adolfo  [2011, 2012, 2013, 2014, 2015, 2016, 2017, 201...   \n",
       "2        Aguaí  [2011, 2012, 2013, 2014, 2015, 2016, 2017, 201...   \n",
       "\n",
       "                                          vl_despesa  \\\n",
       "0  [-0.9814178891814148, -1.0255636066672233, -1....   \n",
       "1  [-1.353375030863864, 1.4481337223092756, -0.47...   \n",
       "2  [0.5968534245469198, -1.2453765265450114, -0.6...   \n",
       "\n",
       "                                                 RCL  pib_nominal  populacao  \\\n",
       "0  [-1.170744333028342, -1.1053294995977767, -0.9...    -0.173311  -0.139320   \n",
       "1  [-1.3488149570155683, -1.1495556931890478, -0....    -0.317042  -0.400436   \n",
       "2  [-1.2526349806887835, -1.148311635069227, -0.6...    -0.190146  -0.131591   \n",
       "\n",
       "   quantidade_total_vagas  vereadores      area  alunos_escola  \n",
       "0                0.014427   -0.538436  0.089647      -0.245825  \n",
       "1               -0.367217   -0.538436 -0.540725      -0.451228  \n",
       "2               -0.116825    0.694462  0.288214      -0.122430  "
      ]
     },
     "metadata": {},
     "output_type": "display_data"
    }
   ],
   "source": [
    "df_municipio_defl_scaled_grouped = (\n",
    "    df_municipios_defl_scaled_grouped.\n",
    "    merge(\n",
    "        rcl_municipios_grouped_scaled,\n",
    "        on = [\"ds_municipio\"]\n",
    "    ).\n",
    "    reset_index(drop = True).\n",
    "    merge(\n",
    "        info_municipios_scaled.filter([\"ds_municipio\", \"pib_nominal\", \"populacao\", \"quantidade_total_vagas\", \"vereadores\", \"area\", \"alunos_escola\"]),\n",
    "        on = \"ds_municipio\"\n",
    "    ).\n",
    "    reset_index(drop = True)\n",
    ")\n",
    "\n",
    "display( df_municipio_defl_scaled_grouped.head(3) )"
   ]
  },
  {
   "cell_type": "code",
   "execution_count": null,
   "id": "a0779a30-5646-498d-9c24-ca401f11a74c",
   "metadata": {},
   "outputs": [],
   "source": []
  }
 ],
 "metadata": {
  "kernelspec": {
   "display_name": "tcesp",
   "language": "python",
   "name": "tcesp"
  },
  "language_info": {
   "codemirror_mode": {
    "name": "ipython",
    "version": 3
   },
   "file_extension": ".py",
   "mimetype": "text/x-python",
   "name": "python",
   "nbconvert_exporter": "python",
   "pygments_lexer": "ipython3",
   "version": "3.9.12"
  }
 },
 "nbformat": 4,
 "nbformat_minor": 5
}
