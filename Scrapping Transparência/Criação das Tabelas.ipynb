{
 "cells": [
  {
   "cell_type": "code",
   "execution_count": 17,
   "id": "b9910213-929c-4f64-a1ef-14a79122269e",
   "metadata": {},
   "outputs": [],
   "source": [
    "import sys, os, shutil\n",
    "import gc\n",
    "import tempfile\n",
    "import warnings\n",
    "\n",
    "from glob import glob\n",
    "from time import time\n",
    "import numpy as np\n",
    "\n",
    "import pandas as pd\n",
    "from dask import dataframe as dd"
   ]
  },
  {
   "cell_type": "markdown",
   "id": "6ea13bce-db75-4162-8c20-257bfddf3956",
   "metadata": {},
   "source": [
    "## Construção da base de dados"
   ]
  },
  {
   "cell_type": "markdown",
   "id": "7b92d6e6-7b07-47cd-81b4-10d089b3de3b",
   "metadata": {},
   "source": [
    "A seguir, é executado o processo de obtenção da base de dados final utilizada na análise dos dados do Tribunal de Contas. Temos acesso à planilhas anuais com todos os gastos declarados pelos municípios, os quais foram concedidos pelo Tribunal de Contas. Neste caso temos o interesse apenas naquelas despesas cujo tipo seja ''Valor Liquidado'', que representam aqueles valores de fato concedidos pelo governo do estado.\n",
    "\n",
    "A seguir construímos a tabela correspondente aos dados de 2010 manualmente, que servirá de base para a criação de uma função para a automatização deste processo de construção das bases de dados."
   ]
  },
  {
   "cell_type": "markdown",
   "id": "69acc838-21a3-4a60-b141-d8d54c51d24c",
   "metadata": {},
   "source": [
    "### Biblioteca dask"
   ]
  },
  {
   "cell_type": "markdown",
   "id": "9a782f2c-86a0-45d7-ad32-5db55e1b6985",
   "metadata": {},
   "source": [
    "Devido à imensa quantidade de dados contida nas tabelas de despesas anuais, não é desejável o carregamento destas tabelas diretamente pela biblitoeca pandas, que armazena toda a informação na memória RAM do computador. Considerando um computador com 16GB de memória, não é possível o tratamento dos dados brutos desta maneira com facilidade. Por essa razão utilizamos a biblioteca paralelizada dask, que tem a capacidade de carregar os conjuntos de dados de modo a armazenar em memória apenas as informações de interesse a serem tratadas."
   ]
  },
  {
   "cell_type": "code",
   "execution_count": 2,
   "id": "31428735-c1e4-45c7-8913-4f99b66209a2",
   "metadata": {},
   "outputs": [
    {
     "data": {
      "text/html": [
       "<div>\n",
       "<style scoped>\n",
       "    .dataframe tbody tr th:only-of-type {\n",
       "        vertical-align: middle;\n",
       "    }\n",
       "\n",
       "    .dataframe tbody tr th {\n",
       "        vertical-align: top;\n",
       "    }\n",
       "\n",
       "    .dataframe thead th {\n",
       "        text-align: right;\n",
       "    }\n",
       "</style>\n",
       "<table border=\"1\" class=\"dataframe\">\n",
       "  <thead>\n",
       "    <tr style=\"text-align: right;\">\n",
       "      <th></th>\n",
       "      <th>id_despesa_detalhe</th>\n",
       "      <th>ano_exercicio</th>\n",
       "      <th>ds_municipio</th>\n",
       "      <th>ds_orgao</th>\n",
       "      <th>mes_referencia</th>\n",
       "      <th>mes_ref_extenso</th>\n",
       "      <th>tp_despesa</th>\n",
       "      <th>nr_empenho</th>\n",
       "      <th>identificador_despesa</th>\n",
       "      <th>ds_despesa</th>\n",
       "      <th>...</th>\n",
       "      <th>ds_subfuncao_governo</th>\n",
       "      <th>cd_programa</th>\n",
       "      <th>ds_programa</th>\n",
       "      <th>cd_acao</th>\n",
       "      <th>ds_acao</th>\n",
       "      <th>ds_fonte_recurso</th>\n",
       "      <th>ds_cd_aplicacao_fixo</th>\n",
       "      <th>ds_modalidade_lic</th>\n",
       "      <th>ds_elemento</th>\n",
       "      <th>historico_despesa</th>\n",
       "    </tr>\n",
       "  </thead>\n",
       "  <tbody>\n",
       "    <tr>\n",
       "      <th>0</th>\n",
       "      <td>49141808.0</td>\n",
       "      <td>2010.0</td>\n",
       "      <td>Adamantina</td>\n",
       "      <td>PREFEITURA MUNICIPAL DE ADAMANTINA</td>\n",
       "      <td>1.0</td>\n",
       "      <td>janeiro</td>\n",
       "      <td>Empenhado</td>\n",
       "      <td>707-2010</td>\n",
       "      <td>CNPJ - PESSOA JURÍDICA - 61684387000137</td>\n",
       "      <td>FREAUTO PEÇAS E SERVIÇOS LTDA.</td>\n",
       "      <td>...</td>\n",
       "      <td>ENSINO FUNDAMENTAL</td>\n",
       "      <td>15.0</td>\n",
       "      <td>PROG.DE DESENVOLVIMENTO EDUCACIONAL</td>\n",
       "      <td>2029.0</td>\n",
       "      <td>GESTAO DOS RECURSOS QESE</td>\n",
       "      <td>TRANSFERÊNCIAS E CONVÊNIOS FEDERAIS-VINCULADOS</td>\n",
       "      <td>0200 - EDUCAÇÃO - RECURSOS ESPECÍFICOS</td>\n",
       "      <td>DISPENSA DE LICITAÇÃO</td>\n",
       "      <td>33903039 - MATERIAL PARA MANUTENÇÃO DE VEÍCULOS</td>\n",
       "      <td>Valor empenhado conforme Pedido de Compras 282...</td>\n",
       "    </tr>\n",
       "    <tr>\n",
       "      <th>1</th>\n",
       "      <td>49138019.0</td>\n",
       "      <td>2010.0</td>\n",
       "      <td>Adamantina</td>\n",
       "      <td>PREFEITURA MUNICIPAL DE ADAMANTINA</td>\n",
       "      <td>1.0</td>\n",
       "      <td>janeiro</td>\n",
       "      <td>Empenhado</td>\n",
       "      <td>694-2010</td>\n",
       "      <td>PESSOA FÍSICA - 949588</td>\n",
       "      <td>DOUGLAS LUIZ MONTELO</td>\n",
       "      <td>...</td>\n",
       "      <td>ENSINO FUNDAMENTAL</td>\n",
       "      <td>15.0</td>\n",
       "      <td>PROG.DE DESENVOLVIMENTO EDUCACIONAL</td>\n",
       "      <td>2029.0</td>\n",
       "      <td>GESTAO DOS RECURSOS QESE</td>\n",
       "      <td>TRANSFERÊNCIAS E CONVÊNIOS FEDERAIS-VINCULADOS</td>\n",
       "      <td>0200 - EDUCAÇÃO - RECURSOS ESPECÍFICOS</td>\n",
       "      <td>DISPENSA DE LICITAÇÃO</td>\n",
       "      <td>33903620 - MANUTENÇÃO E CONSERVAÇÃO DE VEÍCULOS</td>\n",
       "      <td>Valor empenhado conforme Pedido de Compras 269...</td>\n",
       "    </tr>\n",
       "    <tr>\n",
       "      <th>2</th>\n",
       "      <td>49133666.0</td>\n",
       "      <td>2010.0</td>\n",
       "      <td>Adamantina</td>\n",
       "      <td>PREFEITURA MUNICIPAL DE ADAMANTINA</td>\n",
       "      <td>1.0</td>\n",
       "      <td>janeiro</td>\n",
       "      <td>Empenhado</td>\n",
       "      <td>79-2010</td>\n",
       "      <td>CNPJ - PESSOA JURÍDICA - 07753097000152</td>\n",
       "      <td>KAENE CONSTRUTORA LTDA</td>\n",
       "      <td>...</td>\n",
       "      <td>EDUCAÇÃO INFANTIL</td>\n",
       "      <td>15.0</td>\n",
       "      <td>PROG.DE DESENVOLVIMENTO EDUCACIONAL</td>\n",
       "      <td>1011.0</td>\n",
       "      <td>CONSTR/AMPL/REFORMA DE CRECHES</td>\n",
       "      <td>TESOURO</td>\n",
       "      <td>0200 - EDUCAÇÃO - RECURSOS ESPECÍFICOS</td>\n",
       "      <td>TOMADA DE PREÇOS</td>\n",
       "      <td>44905191 - OBRAS EM ANDAMENTO</td>\n",
       "      <td>Valor empenhado conforme Pedido de Compras 14/...</td>\n",
       "    </tr>\n",
       "  </tbody>\n",
       "</table>\n",
       "<p>3 rows × 23 columns</p>\n",
       "</div>"
      ],
      "text/plain": [
       "   id_despesa_detalhe  ano_exercicio ds_municipio  \\\n",
       "0          49141808.0         2010.0   Adamantina   \n",
       "1          49138019.0         2010.0   Adamantina   \n",
       "2          49133666.0         2010.0   Adamantina   \n",
       "\n",
       "                             ds_orgao  mes_referencia mes_ref_extenso  \\\n",
       "0  PREFEITURA MUNICIPAL DE ADAMANTINA             1.0         janeiro   \n",
       "1  PREFEITURA MUNICIPAL DE ADAMANTINA             1.0         janeiro   \n",
       "2  PREFEITURA MUNICIPAL DE ADAMANTINA             1.0         janeiro   \n",
       "\n",
       "  tp_despesa nr_empenho                    identificador_despesa  \\\n",
       "0  Empenhado   707-2010  CNPJ - PESSOA JURÍDICA - 61684387000137   \n",
       "1  Empenhado   694-2010                   PESSOA FÍSICA - 949588   \n",
       "2  Empenhado    79-2010  CNPJ - PESSOA JURÍDICA - 07753097000152   \n",
       "\n",
       "                       ds_despesa  ... ds_subfuncao_governo  cd_programa  \\\n",
       "0  FREAUTO PEÇAS E SERVIÇOS LTDA.  ...   ENSINO FUNDAMENTAL         15.0   \n",
       "1            DOUGLAS LUIZ MONTELO  ...   ENSINO FUNDAMENTAL         15.0   \n",
       "2          KAENE CONSTRUTORA LTDA  ...    EDUCAÇÃO INFANTIL         15.0   \n",
       "\n",
       "                           ds_programa cd_acao  \\\n",
       "0  PROG.DE DESENVOLVIMENTO EDUCACIONAL  2029.0   \n",
       "1  PROG.DE DESENVOLVIMENTO EDUCACIONAL  2029.0   \n",
       "2  PROG.DE DESENVOLVIMENTO EDUCACIONAL  1011.0   \n",
       "\n",
       "                          ds_acao  \\\n",
       "0        GESTAO DOS RECURSOS QESE   \n",
       "1        GESTAO DOS RECURSOS QESE   \n",
       "2  CONSTR/AMPL/REFORMA DE CRECHES   \n",
       "\n",
       "                                 ds_fonte_recurso  \\\n",
       "0  TRANSFERÊNCIAS E CONVÊNIOS FEDERAIS-VINCULADOS   \n",
       "1  TRANSFERÊNCIAS E CONVÊNIOS FEDERAIS-VINCULADOS   \n",
       "2                                         TESOURO   \n",
       "\n",
       "                     ds_cd_aplicacao_fixo      ds_modalidade_lic  \\\n",
       "0  0200 - EDUCAÇÃO - RECURSOS ESPECÍFICOS  DISPENSA DE LICITAÇÃO   \n",
       "1  0200 - EDUCAÇÃO - RECURSOS ESPECÍFICOS  DISPENSA DE LICITAÇÃO   \n",
       "2  0200 - EDUCAÇÃO - RECURSOS ESPECÍFICOS       TOMADA DE PREÇOS   \n",
       "\n",
       "                                       ds_elemento  \\\n",
       "0  33903039 - MATERIAL PARA MANUTENÇÃO DE VEÍCULOS   \n",
       "1  33903620 - MANUTENÇÃO E CONSERVAÇÃO DE VEÍCULOS   \n",
       "2                    44905191 - OBRAS EM ANDAMENTO   \n",
       "\n",
       "                                   historico_despesa  \n",
       "0  Valor empenhado conforme Pedido de Compras 282...  \n",
       "1  Valor empenhado conforme Pedido de Compras 269...  \n",
       "2  Valor empenhado conforme Pedido de Compras 14/...  \n",
       "\n",
       "[3 rows x 23 columns]"
      ]
     },
     "metadata": {},
     "output_type": "display_data"
    }
   ],
   "source": [
    "df_dd = dd.read_csv(\"despesas-2010.csv\", sep = \";\", encoding = \"ISO-8859-1\", assume_missing=True, decimal = \",\")\n",
    "display( df_dd.head(3) )"
   ]
  },
  {
   "cell_type": "markdown",
   "id": "97709b6e-7205-417c-bf81-4c7c7bb7a27a",
   "metadata": {},
   "source": [
    "Acima ao chamarmos o método ''head'', os dados foram recuperados do arquivo dinamicamente. Como podemos ver a seguir, o objeto consiste em uma ''máscara'' dos dados originais."
   ]
  },
  {
   "cell_type": "code",
   "execution_count": 3,
   "id": "a1338208-bbc1-4af1-9a7b-71acadd60349",
   "metadata": {},
   "outputs": [
    {
     "data": {
      "text/html": [
       "<div><strong>Dask DataFrame Structure:</strong></div>\n",
       "<div>\n",
       "<style scoped>\n",
       "    .dataframe tbody tr th:only-of-type {\n",
       "        vertical-align: middle;\n",
       "    }\n",
       "\n",
       "    .dataframe tbody tr th {\n",
       "        vertical-align: top;\n",
       "    }\n",
       "\n",
       "    .dataframe thead th {\n",
       "        text-align: right;\n",
       "    }\n",
       "</style>\n",
       "<table border=\"1\" class=\"dataframe\">\n",
       "  <thead>\n",
       "    <tr style=\"text-align: right;\">\n",
       "      <th></th>\n",
       "      <th>id_despesa_detalhe</th>\n",
       "      <th>ano_exercicio</th>\n",
       "      <th>ds_municipio</th>\n",
       "      <th>ds_orgao</th>\n",
       "      <th>mes_referencia</th>\n",
       "      <th>mes_ref_extenso</th>\n",
       "      <th>tp_despesa</th>\n",
       "      <th>nr_empenho</th>\n",
       "      <th>identificador_despesa</th>\n",
       "      <th>ds_despesa</th>\n",
       "      <th>dt_emissao_despesa</th>\n",
       "      <th>vl_despesa</th>\n",
       "      <th>ds_funcao_governo</th>\n",
       "      <th>ds_subfuncao_governo</th>\n",
       "      <th>cd_programa</th>\n",
       "      <th>ds_programa</th>\n",
       "      <th>cd_acao</th>\n",
       "      <th>ds_acao</th>\n",
       "      <th>ds_fonte_recurso</th>\n",
       "      <th>ds_cd_aplicacao_fixo</th>\n",
       "      <th>ds_modalidade_lic</th>\n",
       "      <th>ds_elemento</th>\n",
       "      <th>historico_despesa</th>\n",
       "    </tr>\n",
       "    <tr>\n",
       "      <th>npartitions=162</th>\n",
       "      <th></th>\n",
       "      <th></th>\n",
       "      <th></th>\n",
       "      <th></th>\n",
       "      <th></th>\n",
       "      <th></th>\n",
       "      <th></th>\n",
       "      <th></th>\n",
       "      <th></th>\n",
       "      <th></th>\n",
       "      <th></th>\n",
       "      <th></th>\n",
       "      <th></th>\n",
       "      <th></th>\n",
       "      <th></th>\n",
       "      <th></th>\n",
       "      <th></th>\n",
       "      <th></th>\n",
       "      <th></th>\n",
       "      <th></th>\n",
       "      <th></th>\n",
       "      <th></th>\n",
       "      <th></th>\n",
       "    </tr>\n",
       "  </thead>\n",
       "  <tbody>\n",
       "    <tr>\n",
       "      <th></th>\n",
       "      <td>float64</td>\n",
       "      <td>float64</td>\n",
       "      <td>object</td>\n",
       "      <td>object</td>\n",
       "      <td>float64</td>\n",
       "      <td>object</td>\n",
       "      <td>object</td>\n",
       "      <td>object</td>\n",
       "      <td>object</td>\n",
       "      <td>object</td>\n",
       "      <td>object</td>\n",
       "      <td>float64</td>\n",
       "      <td>object</td>\n",
       "      <td>object</td>\n",
       "      <td>float64</td>\n",
       "      <td>object</td>\n",
       "      <td>float64</td>\n",
       "      <td>object</td>\n",
       "      <td>object</td>\n",
       "      <td>object</td>\n",
       "      <td>object</td>\n",
       "      <td>object</td>\n",
       "      <td>object</td>\n",
       "    </tr>\n",
       "    <tr>\n",
       "      <th></th>\n",
       "      <td>...</td>\n",
       "      <td>...</td>\n",
       "      <td>...</td>\n",
       "      <td>...</td>\n",
       "      <td>...</td>\n",
       "      <td>...</td>\n",
       "      <td>...</td>\n",
       "      <td>...</td>\n",
       "      <td>...</td>\n",
       "      <td>...</td>\n",
       "      <td>...</td>\n",
       "      <td>...</td>\n",
       "      <td>...</td>\n",
       "      <td>...</td>\n",
       "      <td>...</td>\n",
       "      <td>...</td>\n",
       "      <td>...</td>\n",
       "      <td>...</td>\n",
       "      <td>...</td>\n",
       "      <td>...</td>\n",
       "      <td>...</td>\n",
       "      <td>...</td>\n",
       "      <td>...</td>\n",
       "    </tr>\n",
       "    <tr>\n",
       "      <th>...</th>\n",
       "      <td>...</td>\n",
       "      <td>...</td>\n",
       "      <td>...</td>\n",
       "      <td>...</td>\n",
       "      <td>...</td>\n",
       "      <td>...</td>\n",
       "      <td>...</td>\n",
       "      <td>...</td>\n",
       "      <td>...</td>\n",
       "      <td>...</td>\n",
       "      <td>...</td>\n",
       "      <td>...</td>\n",
       "      <td>...</td>\n",
       "      <td>...</td>\n",
       "      <td>...</td>\n",
       "      <td>...</td>\n",
       "      <td>...</td>\n",
       "      <td>...</td>\n",
       "      <td>...</td>\n",
       "      <td>...</td>\n",
       "      <td>...</td>\n",
       "      <td>...</td>\n",
       "      <td>...</td>\n",
       "    </tr>\n",
       "    <tr>\n",
       "      <th></th>\n",
       "      <td>...</td>\n",
       "      <td>...</td>\n",
       "      <td>...</td>\n",
       "      <td>...</td>\n",
       "      <td>...</td>\n",
       "      <td>...</td>\n",
       "      <td>...</td>\n",
       "      <td>...</td>\n",
       "      <td>...</td>\n",
       "      <td>...</td>\n",
       "      <td>...</td>\n",
       "      <td>...</td>\n",
       "      <td>...</td>\n",
       "      <td>...</td>\n",
       "      <td>...</td>\n",
       "      <td>...</td>\n",
       "      <td>...</td>\n",
       "      <td>...</td>\n",
       "      <td>...</td>\n",
       "      <td>...</td>\n",
       "      <td>...</td>\n",
       "      <td>...</td>\n",
       "      <td>...</td>\n",
       "    </tr>\n",
       "    <tr>\n",
       "      <th></th>\n",
       "      <td>...</td>\n",
       "      <td>...</td>\n",
       "      <td>...</td>\n",
       "      <td>...</td>\n",
       "      <td>...</td>\n",
       "      <td>...</td>\n",
       "      <td>...</td>\n",
       "      <td>...</td>\n",
       "      <td>...</td>\n",
       "      <td>...</td>\n",
       "      <td>...</td>\n",
       "      <td>...</td>\n",
       "      <td>...</td>\n",
       "      <td>...</td>\n",
       "      <td>...</td>\n",
       "      <td>...</td>\n",
       "      <td>...</td>\n",
       "      <td>...</td>\n",
       "      <td>...</td>\n",
       "      <td>...</td>\n",
       "      <td>...</td>\n",
       "      <td>...</td>\n",
       "      <td>...</td>\n",
       "    </tr>\n",
       "  </tbody>\n",
       "</table>\n",
       "</div>\n",
       "<div>Dask Name: read-csv, 1 graph layer</div>"
      ],
      "text/plain": [
       "Dask DataFrame Structure:\n",
       "                id_despesa_detalhe ano_exercicio ds_municipio ds_orgao mes_referencia mes_ref_extenso tp_despesa nr_empenho identificador_despesa ds_despesa dt_emissao_despesa vl_despesa ds_funcao_governo ds_subfuncao_governo cd_programa ds_programa  cd_acao ds_acao ds_fonte_recurso ds_cd_aplicacao_fixo ds_modalidade_lic ds_elemento historico_despesa\n",
       "npartitions=162                                                                                                                                                                                                                                                                                                                                                 \n",
       "                           float64       float64       object   object        float64          object     object     object                object     object             object    float64            object               object     float64      object  float64  object           object               object            object      object            object\n",
       "                               ...           ...          ...      ...            ...             ...        ...        ...                   ...        ...                ...        ...               ...                  ...         ...         ...      ...     ...              ...                  ...               ...         ...               ...\n",
       "...                            ...           ...          ...      ...            ...             ...        ...        ...                   ...        ...                ...        ...               ...                  ...         ...         ...      ...     ...              ...                  ...               ...         ...               ...\n",
       "                               ...           ...          ...      ...            ...             ...        ...        ...                   ...        ...                ...        ...               ...                  ...         ...         ...      ...     ...              ...                  ...               ...         ...               ...\n",
       "                               ...           ...          ...      ...            ...             ...        ...        ...                   ...        ...                ...        ...               ...                  ...         ...         ...      ...     ...              ...                  ...               ...         ...               ...\n",
       "Dask Name: read-csv, 1 graph layer"
      ]
     },
     "metadata": {},
     "output_type": "display_data"
    }
   ],
   "source": [
    "display( df_dd )"
   ]
  },
  {
   "cell_type": "markdown",
   "id": "c7720fb2-ed77-44b9-bd21-ff07c7f69fe5",
   "metadata": {},
   "source": [
    "Com essa funcionalidade em mente, simplificamos todo o processo de sumarização desta base fazendo o uso do método loc para selecionar apenas as despesas de interesse para a criação da base (''Valor Liquidado''). Em seguida, os dados já filtrados são salvos em 8 arquivos de extensão parquet, os quais podem ser tranquilamente carregados e processados pela biblioteca pandas para processamento."
   ]
  },
  {
   "cell_type": "code",
   "execution_count": 4,
   "id": "925c6483-0b38-49c5-ae3b-4fd736681171",
   "metadata": {},
   "outputs": [],
   "source": [
    "warnings.filterwarnings(\"ignore\")\n",
    "\n",
    "# Filtra as informações\n",
    "df_dd = df_dd.loc[df_dd.tp_despesa == \"Valor Liquidado\", :]\n",
    "# Define o número de partições do dataframe e salva em formato .parquet\n",
    "df_dd = df_dd.repartition(npartitions = 8)\n",
    "dd.to_parquet(df_dd, \"2010\", write_index = False)"
   ]
  },
  {
   "cell_type": "markdown",
   "id": "6e8ac921-067e-4d2f-a6ac-72abe74b8bc7",
   "metadata": {},
   "source": [
    "Uma vez salvo o dataframe em diferentes arquivos, basta percorrermos todos eles, já agregando as despesas totais segundo as datas e os códigos de municípios, órgãos e despesas."
   ]
  },
  {
   "cell_type": "code",
   "execution_count": 7,
   "id": "4061515f-4257-4492-bc7a-4768b51f0beb",
   "metadata": {},
   "outputs": [
    {
     "name": "stdout",
     "output_type": "stream",
     "text": [
      "['2010/part.4.parquet', '2010/part.5.parquet', '2010/part.3.parquet', '2010/part.2.parquet', '2010/part.0.parquet', '2010/part.6.parquet', '2010/part.7.parquet', '2010/part.1.parquet']\n"
     ]
    }
   ],
   "source": [
    "arquivos = glob('2010/*.parquet')\n",
    "print(arquivos)"
   ]
  },
  {
   "cell_type": "code",
   "execution_count": 6,
   "id": "7e52dfa5-2e9a-4971-8e5c-6189883ad155",
   "metadata": {},
   "outputs": [
    {
     "name": "stdout",
     "output_type": "stream",
     "text": [
      "Tamanho final da tabela: (750715, 6)\n"
     ]
    },
    {
     "data": {
      "text/html": [
       "<div>\n",
       "<style scoped>\n",
       "    .dataframe tbody tr th:only-of-type {\n",
       "        vertical-align: middle;\n",
       "    }\n",
       "\n",
       "    .dataframe tbody tr th {\n",
       "        vertical-align: top;\n",
       "    }\n",
       "\n",
       "    .dataframe thead th {\n",
       "        text-align: right;\n",
       "    }\n",
       "</style>\n",
       "<table border=\"1\" class=\"dataframe\">\n",
       "  <thead>\n",
       "    <tr style=\"text-align: right;\">\n",
       "      <th></th>\n",
       "      <th>ano_exercicio</th>\n",
       "      <th>mes_referencia</th>\n",
       "      <th>ds_municipio</th>\n",
       "      <th>ds_orgao</th>\n",
       "      <th>ds_elemento</th>\n",
       "      <th>vl_despesa</th>\n",
       "    </tr>\n",
       "  </thead>\n",
       "  <tbody>\n",
       "    <tr>\n",
       "      <th>0</th>\n",
       "      <td>2010.0</td>\n",
       "      <td>1.0</td>\n",
       "      <td>Adamantina</td>\n",
       "      <td>CENTRO UNIVERSITÁRIO DE ADAMANTINA</td>\n",
       "      <td>31900187 - COMPLEMENTAÇÃO DE APOSENTADORIAS</td>\n",
       "      <td>15550.64</td>\n",
       "    </tr>\n",
       "    <tr>\n",
       "      <th>1</th>\n",
       "      <td>2010.0</td>\n",
       "      <td>1.0</td>\n",
       "      <td>Adamantina</td>\n",
       "      <td>CENTRO UNIVERSITÁRIO DE ADAMANTINA</td>\n",
       "      <td>31900386 - COMPLEMENTAÇÃO DE PENSÕES - PESSOAL...</td>\n",
       "      <td>1428.79</td>\n",
       "    </tr>\n",
       "    <tr>\n",
       "      <th>2</th>\n",
       "      <td>2010.0</td>\n",
       "      <td>1.0</td>\n",
       "      <td>Adamantina</td>\n",
       "      <td>CENTRO UNIVERSITÁRIO DE ADAMANTINA</td>\n",
       "      <td>31900415 - OBRIGAÇÕES PATRONAIS</td>\n",
       "      <td>28524.52</td>\n",
       "    </tr>\n",
       "  </tbody>\n",
       "</table>\n",
       "</div>"
      ],
      "text/plain": [
       "   ano_exercicio  mes_referencia ds_municipio  \\\n",
       "0         2010.0             1.0   Adamantina   \n",
       "1         2010.0             1.0   Adamantina   \n",
       "2         2010.0             1.0   Adamantina   \n",
       "\n",
       "                             ds_orgao  \\\n",
       "0  CENTRO UNIVERSITÁRIO DE ADAMANTINA   \n",
       "1  CENTRO UNIVERSITÁRIO DE ADAMANTINA   \n",
       "2  CENTRO UNIVERSITÁRIO DE ADAMANTINA   \n",
       "\n",
       "                                         ds_elemento  vl_despesa  \n",
       "0        31900187 - COMPLEMENTAÇÃO DE APOSENTADORIAS    15550.64  \n",
       "1  31900386 - COMPLEMENTAÇÃO DE PENSÕES - PESSOAL...     1428.79  \n",
       "2                    31900415 - OBRIGAÇÕES PATRONAIS    28524.52  "
      ]
     },
     "metadata": {},
     "output_type": "display_data"
    }
   ],
   "source": [
    "df = None\n",
    "for arquivo in arquivos:\n",
    "    df_aux = pd.read_parquet(arquivo)\n",
    "    # Agrega as despesas segundo as datas e os códigos indicadores de município, órgão e despesa\n",
    "    df_aux = (\n",
    "        df_aux.\n",
    "        groupby([\"ano_exercicio\", \"mes_referencia\", \"ds_municipio\", \"ds_orgao\", \"ds_elemento\"]).\n",
    "        agg({\n",
    "            \"vl_despesa\": \"sum\",\n",
    "        }).\n",
    "        reset_index()\n",
    "    )\n",
    "    if(df is None):\n",
    "        df = df_aux.copy()\n",
    "    else:\n",
    "        df = pd.concat([df, df_aux], axis = 0)\n",
    "# Agrega todos os valores novamente, garantindo que despesas iguais em diferentes arquivos sejam consideradas como iguais        \n",
    "df = (\n",
    "    df.\n",
    "    groupby([\"ano_exercicio\", \"mes_referencia\", \"ds_municipio\", \"ds_orgao\", \"ds_elemento\"]).\n",
    "    agg({\n",
    "        \"vl_despesa\": \"sum\",\n",
    "    }).\n",
    "    reset_index()\n",
    ")\n",
    "print(\"Tamanho final da tabela: {}\".format(df.shape))\n",
    "display( df.head(3) )"
   ]
  },
  {
   "cell_type": "markdown",
   "id": "14d5595d-d3e1-4e22-9bf9-fc6c40442f44",
   "metadata": {},
   "source": [
    "## Correspondência códigos de despesa"
   ]
  },
  {
   "cell_type": "code",
   "execution_count": 52,
   "id": "b8f5ed7f-ed56-483f-9a33-15a3d4fd3054",
   "metadata": {},
   "outputs": [
    {
     "data": {
      "text/html": [
       "<div>\n",
       "<style scoped>\n",
       "    .dataframe tbody tr th:only-of-type {\n",
       "        vertical-align: middle;\n",
       "    }\n",
       "\n",
       "    .dataframe tbody tr th {\n",
       "        vertical-align: top;\n",
       "    }\n",
       "\n",
       "    .dataframe thead th {\n",
       "        text-align: right;\n",
       "    }\n",
       "</style>\n",
       "<table border=\"1\" class=\"dataframe\">\n",
       "  <thead>\n",
       "    <tr style=\"text-align: right;\">\n",
       "      <th></th>\n",
       "      <th>cod_subitem</th>\n",
       "      <th>ds_subitem</th>\n",
       "    </tr>\n",
       "  </thead>\n",
       "  <tbody>\n",
       "    <tr>\n",
       "      <th>0</th>\n",
       "      <td>31900187</td>\n",
       "      <td>COMPLEMENTAÇÃO DE APOSENTADORIAS</td>\n",
       "    </tr>\n",
       "    <tr>\n",
       "      <th>1</th>\n",
       "      <td>31900386</td>\n",
       "      <td>COMPLEMENTAÇÃO DE PENSÕES - PESSOAL CIVIL</td>\n",
       "    </tr>\n",
       "    <tr>\n",
       "      <th>2</th>\n",
       "      <td>31900415</td>\n",
       "      <td>OBRIGAÇÕES PATRONAIS</td>\n",
       "    </tr>\n",
       "  </tbody>\n",
       "</table>\n",
       "</div>"
      ],
      "text/plain": [
       "  cod_subitem                                 ds_subitem\n",
       "0    31900187           COMPLEMENTAÇÃO DE APOSENTADORIAS\n",
       "1    31900386  COMPLEMENTAÇÃO DE PENSÕES - PESSOAL CIVIL\n",
       "2    31900415                       OBRIGAÇÕES PATRONAIS"
      ]
     },
     "execution_count": 52,
     "metadata": {},
     "output_type": "execute_result"
    }
   ],
   "source": [
    "codigos = pd.DataFrame({\"ds_elemento\": df.ds_elemento})\n",
    "codigos[['cod_subitem', 'ds_subitem']] = codigos.ds_elemento.str.split(pat=' - ', n = 1, expand=True)\n",
    "codigos['ds_subitem'] = codigos['ds_subitem'].str.strip()\n",
    "\n",
    "codigos = codigos.filter([\"cod_subitem\", \"ds_subitem\"])\n",
    "codigos.head(3)"
   ]
  },
  {
   "cell_type": "code",
   "execution_count": 53,
   "id": "4261c427-0792-48f0-a949-911b6d2914c9",
   "metadata": {},
   "outputs": [
    {
     "data": {
      "text/html": [
       "<div>\n",
       "<style scoped>\n",
       "    .dataframe tbody tr th:only-of-type {\n",
       "        vertical-align: middle;\n",
       "    }\n",
       "\n",
       "    .dataframe tbody tr th {\n",
       "        vertical-align: top;\n",
       "    }\n",
       "\n",
       "    .dataframe thead th {\n",
       "        text-align: right;\n",
       "    }\n",
       "</style>\n",
       "<table border=\"1\" class=\"dataframe\">\n",
       "  <thead>\n",
       "    <tr style=\"text-align: right;\">\n",
       "      <th></th>\n",
       "      <th>cod_subitem</th>\n",
       "      <th>ds_subitem</th>\n",
       "    </tr>\n",
       "  </thead>\n",
       "  <tbody>\n",
       "    <tr>\n",
       "      <th>0</th>\n",
       "      <td>0187</td>\n",
       "      <td>COMPLEMENTAÇÃO DE APOSENTADORIAS</td>\n",
       "    </tr>\n",
       "    <tr>\n",
       "      <th>1</th>\n",
       "      <td>0386</td>\n",
       "      <td>COMPLEMENTAÇÃO DE PENSÕES - PESSOAL CIVIL</td>\n",
       "    </tr>\n",
       "    <tr>\n",
       "      <th>2</th>\n",
       "      <td>0415</td>\n",
       "      <td>OBRIGAÇÕES PATRONAIS</td>\n",
       "    </tr>\n",
       "  </tbody>\n",
       "</table>\n",
       "</div>"
      ],
      "text/plain": [
       "  cod_subitem                                 ds_subitem\n",
       "0        0187           COMPLEMENTAÇÃO DE APOSENTADORIAS\n",
       "1        0386  COMPLEMENTAÇÃO DE PENSÕES - PESSOAL CIVIL\n",
       "2        0415                       OBRIGAÇÕES PATRONAIS"
      ]
     },
     "execution_count": 53,
     "metadata": {},
     "output_type": "execute_result"
    }
   ],
   "source": [
    "codigos.loc[:,\"cod_subitem\"] = codigos.cod_subitem.apply(lambda x : x[-4:])\n",
    "codigos = codigos.drop_duplicates()\n",
    "\n",
    "codigos.head(3)"
   ]
  },
  {
   "cell_type": "code",
   "execution_count": 58,
   "id": "8b886e64-9e8e-4d9f-82d5-805caf1e9d04",
   "metadata": {},
   "outputs": [],
   "source": [
    "codigos.to_excel(\"classificacoes_despesas.xlsx\")"
   ]
  },
  {
   "cell_type": "code",
   "execution_count": 57,
   "id": "250415c6-2b60-458d-8082-cce8dbc857f1",
   "metadata": {},
   "outputs": [
    {
     "data": {
      "text/html": [
       "<div>\n",
       "<style scoped>\n",
       "    .dataframe tbody tr th:only-of-type {\n",
       "        vertical-align: middle;\n",
       "    }\n",
       "\n",
       "    .dataframe tbody tr th {\n",
       "        vertical-align: top;\n",
       "    }\n",
       "\n",
       "    .dataframe thead th {\n",
       "        text-align: right;\n",
       "    }\n",
       "</style>\n",
       "<table border=\"1\" class=\"dataframe\">\n",
       "  <thead>\n",
       "    <tr style=\"text-align: right;\">\n",
       "      <th></th>\n",
       "      <th>cod_subitem</th>\n",
       "      <th>ds_subitem</th>\n",
       "    </tr>\n",
       "  </thead>\n",
       "  <tbody>\n",
       "    <tr>\n",
       "      <th>48</th>\n",
       "      <td>3001</td>\n",
       "      <td>COMBUSTÍVEIS E LUBRIFICANTES AUTOMOTIVOS</td>\n",
       "    </tr>\n",
       "    <tr>\n",
       "      <th>35004</th>\n",
       "      <td>3001</td>\n",
       "      <td>COMBUSTÍVEIS E LUBRIFICANTES AUTOMOTIVOS - INT...</td>\n",
       "    </tr>\n",
       "  </tbody>\n",
       "</table>\n",
       "</div>"
      ],
      "text/plain": [
       "      cod_subitem                                         ds_subitem\n",
       "48           3001           COMBUSTÍVEIS E LUBRIFICANTES AUTOMOTIVOS\n",
       "35004        3001  COMBUSTÍVEIS E LUBRIFICANTES AUTOMOTIVOS - INT..."
      ]
     },
     "execution_count": 57,
     "metadata": {},
     "output_type": "execute_result"
    }
   ],
   "source": [
    "codigos.loc[codigos.cod_subitem == '3001',:]"
   ]
  },
  {
   "cell_type": "markdown",
   "id": "42a93432-00a7-4ac5-b12f-7aba717b9d22",
   "metadata": {},
   "source": [
    "## Generalização em uma função"
   ]
  },
  {
   "cell_type": "markdown",
   "id": "fe3a62a0-1dad-4acc-acf8-0cc68a929570",
   "metadata": {},
   "source": [
    "Para formatarmos toda a base de dados com diferentes valores anuais, façamos uma função que carrega uma única base de dados e unifica todas as informações da mesma forma abordada acima para o ano de 2010. Vale destacar que, uma vez que utilizaremos uma grande quantidade de dados, o código cria as bases necessárias e em seguida as deleta do disco, resultando apenas na tabela final já processada."
   ]
  },
  {
   "cell_type": "code",
   "execution_count": 2,
   "id": "2e2ce56c-7ffb-47d2-8670-1c183e0d39d2",
   "metadata": {},
   "outputs": [],
   "source": [
    "def criar_tabela_ano(data_path, out_path = None, show_temp_dir = False):\n",
    "    data_name = data_path[:-4]\n",
    "    df_dd = dd.read_csv(data_path, sep = \";\", encoding = \"ISO-8859-1\", assume_missing = True, decimal = \",\", dtype = {\"nr_identificador_despesa\": \"object\"})\n",
    "    \n",
    "    # Cria um diretório temporário para o arquivo segmentado (parquet)\n",
    "    temp_dir = tempfile.TemporaryDirectory().name\n",
    "    if(show_temp_dir):\n",
    "        print(\"Armazenando arquivos auxiliares em {}\".format(temp_dir))\n",
    "    \n",
    "    warnings.filterwarnings(\"ignore\")\n",
    "    # Separa o arquivo grande em 8 partes menores\n",
    "    df_dd = df_dd.loc[df_dd.tp_despesa == \"Valor Liquidado\", [\"ano_exercicio\", \"mes_referencia\", \"ds_municipio\", \"ds_orgao\", \"ds_elemento\", \"vl_despesa\"]]\n",
    "    df_dd = df_dd.repartition(npartitions = 8)\n",
    "    dd.to_parquet(df_dd, \"{}/{}\".format(temp_dir, data_name), write_index = False)    \n",
    "\n",
    "    # Percorre todos os arquivos segmentados, sumariznando e contatenando a uma única tabela\n",
    "    arquivos = glob(\"{}/{}/*.parquet\".format(temp_dir, data_name))\n",
    "    df = None\n",
    "    for arquivo in arquivos:\n",
    "        df_aux = pd.read_parquet(arquivo)\n",
    "        df_aux = (\n",
    "            df_aux.\n",
    "            groupby([\"ano_exercicio\", \"mes_referencia\", \"ds_municipio\", \"ds_orgao\", \"ds_elemento\"]).\n",
    "            agg({\n",
    "                \"vl_despesa\": \"sum\",\n",
    "            }).\n",
    "            reset_index()\n",
    "        )\n",
    "        if(df is None):\n",
    "            df = df_aux.copy()\n",
    "        else:\n",
    "            df = pd.concat([df, df_aux], axis = 0)        \n",
    "            \n",
    "    # Agrega todos os valores novamente, garantindo que despesas iguais em diferentes arquivos sejam consideradas como iguais        \n",
    "    df = (\n",
    "        df.\n",
    "        groupby([\"ano_exercicio\", \"mes_referencia\", \"ds_municipio\", \"ds_orgao\", \"ds_elemento\"]).\n",
    "        agg({\n",
    "            \"vl_despesa\": \"sum\",\n",
    "        }).\n",
    "        reset_index()\n",
    "    )\n",
    "    \n",
    "    # Uma vez obtida a tabela já agregada, deleta as pastas auxiliares do disco\n",
    "    shutil.rmtree(temp_dir)\n",
    "    \n",
    "    if(out_path is None):\n",
    "        return df\n",
    "    \n",
    "    df.to_parquet(out_path)"
   ]
  },
  {
   "cell_type": "code",
   "execution_count": 3,
   "id": "6f24a768-4437-4b7a-bd49-58889d53a46e",
   "metadata": {},
   "outputs": [],
   "source": [
    "criar_tabela_ano(\"despesas-2010.csv\", out_path = \"Data/2010.parquet\")"
   ]
  },
  {
   "cell_type": "code",
   "execution_count": 6,
   "id": "4ed376be-c919-4b0a-8af9-6f635ae4a0d6",
   "metadata": {},
   "outputs": [],
   "source": [
    "criar_tabela_ano(\"despesas-2011.csv\", out_path = \"Data/2011.parquet\")"
   ]
  },
  {
   "cell_type": "code",
   "execution_count": 4,
   "id": "6ba431bd-9964-44df-8898-698ad51121c7",
   "metadata": {},
   "outputs": [],
   "source": [
    "criar_tabela_ano(\"despesas-2012.csv\", out_path = \"Data/2012.parquet\")"
   ]
  },
  {
   "cell_type": "code",
   "execution_count": 6,
   "id": "2bb6a50d-9516-4014-b2a4-34d7a01a525a",
   "metadata": {},
   "outputs": [],
   "source": [
    "criar_tabela_ano(\"despesas-2013.csv\", out_path = \"Data/2013.parquet\")"
   ]
  },
  {
   "cell_type": "code",
   "execution_count": 29,
   "id": "64a9cacd-782e-4b0e-9ea9-43d8568f0a1b",
   "metadata": {},
   "outputs": [],
   "source": [
    "criar_tabela_ano(\"despesas-2014.csv\", out_path = \"Data/2014.parquet\")"
   ]
  },
  {
   "cell_type": "code",
   "execution_count": 31,
   "id": "9dc1b8a5-390c-4ee3-924d-834a6520f246",
   "metadata": {},
   "outputs": [],
   "source": [
    "criar_tabela_ano(\"despesas-2015.csv\", out_path = \"Data/2015.parquet\")"
   ]
  },
  {
   "cell_type": "code",
   "execution_count": 34,
   "id": "8b3ff051-ca8d-48fc-bf7c-e8b85ed88fa9",
   "metadata": {},
   "outputs": [],
   "source": [
    "criar_tabela_ano(\"despesas-2016.csv\", out_path = \"Data/2016.parquet\")"
   ]
  },
  {
   "cell_type": "code",
   "execution_count": 6,
   "id": "fd5a2bf4-47fb-4403-8214-d57791d2e61f",
   "metadata": {},
   "outputs": [],
   "source": [
    "criar_tabela_ano(\"despesas-2017.csv\", out_path = \"Data/2017.parquet\")"
   ]
  },
  {
   "cell_type": "code",
   "execution_count": 8,
   "id": "24ea39ba-5113-4ec0-840a-9891392c5f73",
   "metadata": {},
   "outputs": [],
   "source": [
    "criar_tabela_ano(\"despesas-2018.csv\", out_path = \"Data/2018.parquet\")"
   ]
  },
  {
   "cell_type": "code",
   "execution_count": null,
   "id": "1590c694-6ea3-4ae2-b499-42a7a12010b2",
   "metadata": {},
   "outputs": [],
   "source": [
    "criar_tabela_ano(\"despesas-2019.csv\", out_path = \"Data/2019.parquet\")"
   ]
  },
  {
   "cell_type": "code",
   "execution_count": 4,
   "id": "d2ba7f6f-dba2-487e-aeea-a869349978d2",
   "metadata": {},
   "outputs": [],
   "source": [
    "criar_tabela_ano(\"despesas-2020.csv\", out_path = \"Data/2020.parquet\")"
   ]
  },
  {
   "cell_type": "code",
   "execution_count": 14,
   "id": "60cc8751-4291-4f25-ab21-e57237c6dab2",
   "metadata": {},
   "outputs": [],
   "source": [
    "criar_tabela_ano(\"despesas-2021.csv\", out_path = \"Data/2021.parquet\")"
   ]
  },
  {
   "cell_type": "code",
   "execution_count": 16,
   "id": "1f548c04-9ecf-4c68-a8cd-93a7c318eef8",
   "metadata": {},
   "outputs": [],
   "source": [
    "criar_tabela_ano(\"despesas-2022.csv\", out_path = \"Data/2022.parquet\")"
   ]
  },
  {
   "cell_type": "markdown",
   "id": "774f2455-e96a-4811-accc-7c9aba76f777",
   "metadata": {},
   "source": [
    "Os dados de origem .csv foram obtidos em https://transparencia.tce.sp.gov.br/conjunto-de-dados. Os dados não estão disponibilizados junto aos arquivos devido ao seu excessivo tamanho. Apenas os valores já agrupados segundo as despesas estão disponíveis.\n",
    "\n",
    "Uma vez agrupados e separados em cada ano, basta reunirmos todas as informações em uma única tabela."
   ]
  },
  {
   "cell_type": "code",
   "execution_count": 2,
   "id": "b54ddad5-adb5-4fb8-b24c-c9a96d65f781",
   "metadata": {},
   "outputs": [
    {
     "name": "stdout",
     "output_type": "stream",
     "text": [
      "['Data/2010.parquet', 'Data/2011.parquet', 'Data/2012.parquet', 'Data/2013.parquet', 'Data/2014.parquet', 'Data/2015.parquet', 'Data/2016.parquet', 'Data/2017.parquet', 'Data/2018.parquet', 'Data/2019.parquet', 'Data/2020.parquet', 'Data/2021.parquet', 'Data/2022.parquet']\n"
     ]
    }
   ],
   "source": [
    "arquivos = [\"Data/{}.parquet\".format(i) for i in range(2010, 2022+1)]\n",
    "print( arquivos )"
   ]
  },
  {
   "cell_type": "code",
   "execution_count": 3,
   "id": "486ff5fb-e39c-426f-87df-a9e3444e6cfe",
   "metadata": {},
   "outputs": [
    {
     "name": "stdout",
     "output_type": "stream",
     "text": [
      "ano_exercicio     float64\n",
      "mes_referencia    float64\n",
      "ds_municipio       object\n",
      "ds_orgao           object\n",
      "ds_elemento        object\n",
      "vl_despesa        float64\n",
      "dtype: object\n"
     ]
    },
    {
     "data": {
      "text/html": [
       "<div>\n",
       "<style scoped>\n",
       "    .dataframe tbody tr th:only-of-type {\n",
       "        vertical-align: middle;\n",
       "    }\n",
       "\n",
       "    .dataframe tbody tr th {\n",
       "        vertical-align: top;\n",
       "    }\n",
       "\n",
       "    .dataframe thead th {\n",
       "        text-align: right;\n",
       "    }\n",
       "</style>\n",
       "<table border=\"1\" class=\"dataframe\">\n",
       "  <thead>\n",
       "    <tr style=\"text-align: right;\">\n",
       "      <th></th>\n",
       "      <th>ano_exercicio</th>\n",
       "      <th>mes_referencia</th>\n",
       "      <th>ds_municipio</th>\n",
       "      <th>ds_orgao</th>\n",
       "      <th>ds_elemento</th>\n",
       "      <th>vl_despesa</th>\n",
       "    </tr>\n",
       "  </thead>\n",
       "  <tbody>\n",
       "    <tr>\n",
       "      <th>0</th>\n",
       "      <td>2010.0</td>\n",
       "      <td>1.0</td>\n",
       "      <td>Adamantina</td>\n",
       "      <td>CENTRO UNIVERSITÁRIO DE ADAMANTINA</td>\n",
       "      <td>31900187 - COMPLEMENTAÇÃO DE APOSENTADORIAS</td>\n",
       "      <td>15550.64</td>\n",
       "    </tr>\n",
       "    <tr>\n",
       "      <th>1</th>\n",
       "      <td>2010.0</td>\n",
       "      <td>1.0</td>\n",
       "      <td>Adamantina</td>\n",
       "      <td>CENTRO UNIVERSITÁRIO DE ADAMANTINA</td>\n",
       "      <td>31900386 - COMPLEMENTAÇÃO DE PENSÕES - PESSOAL...</td>\n",
       "      <td>1428.79</td>\n",
       "    </tr>\n",
       "    <tr>\n",
       "      <th>2</th>\n",
       "      <td>2010.0</td>\n",
       "      <td>1.0</td>\n",
       "      <td>Adamantina</td>\n",
       "      <td>CENTRO UNIVERSITÁRIO DE ADAMANTINA</td>\n",
       "      <td>31900415 - OBRIGAÇÕES PATRONAIS</td>\n",
       "      <td>28524.52</td>\n",
       "    </tr>\n",
       "  </tbody>\n",
       "</table>\n",
       "</div>"
      ],
      "text/plain": [
       "   ano_exercicio  mes_referencia ds_municipio  \\\n",
       "0         2010.0             1.0   Adamantina   \n",
       "1         2010.0             1.0   Adamantina   \n",
       "2         2010.0             1.0   Adamantina   \n",
       "\n",
       "                             ds_orgao  \\\n",
       "0  CENTRO UNIVERSITÁRIO DE ADAMANTINA   \n",
       "1  CENTRO UNIVERSITÁRIO DE ADAMANTINA   \n",
       "2  CENTRO UNIVERSITÁRIO DE ADAMANTINA   \n",
       "\n",
       "                                         ds_elemento  vl_despesa  \n",
       "0        31900187 - COMPLEMENTAÇÃO DE APOSENTADORIAS    15550.64  \n",
       "1  31900386 - COMPLEMENTAÇÃO DE PENSÕES - PESSOAL...     1428.79  \n",
       "2                    31900415 - OBRIGAÇÕES PATRONAIS    28524.52  "
      ]
     },
     "metadata": {},
     "output_type": "display_data"
    }
   ],
   "source": [
    "df = None\n",
    "for arquivo in arquivos:\n",
    "    df_aux = pd.read_parquet(arquivo)\n",
    "    if(df is None):\n",
    "        df = df_aux.copy()\n",
    "    else:\n",
    "        df = pd.concat([df, df_aux], axis = 0)\n",
    "        \n",
    "print( df.dtypes )\n",
    "display( df.head(3) )"
   ]
  },
  {
   "cell_type": "code",
   "execution_count": 4,
   "id": "bcfc5272-70e5-4c2f-bd40-2cc317c39dff",
   "metadata": {},
   "outputs": [
    {
     "data": {
      "text/html": [
       "<div>\n",
       "<style scoped>\n",
       "    .dataframe tbody tr th:only-of-type {\n",
       "        vertical-align: middle;\n",
       "    }\n",
       "\n",
       "    .dataframe tbody tr th {\n",
       "        vertical-align: top;\n",
       "    }\n",
       "\n",
       "    .dataframe thead th {\n",
       "        text-align: right;\n",
       "    }\n",
       "</style>\n",
       "<table border=\"1\" class=\"dataframe\">\n",
       "  <thead>\n",
       "    <tr style=\"text-align: right;\">\n",
       "      <th></th>\n",
       "      <th>ano_exercicio</th>\n",
       "      <th>mes_referencia</th>\n",
       "      <th>ds_municipio</th>\n",
       "      <th>ds_orgao</th>\n",
       "      <th>ds_elemento</th>\n",
       "      <th>vl_despesa</th>\n",
       "      <th>cod_subitem</th>\n",
       "      <th>ds_subitem</th>\n",
       "    </tr>\n",
       "  </thead>\n",
       "  <tbody>\n",
       "    <tr>\n",
       "      <th>0</th>\n",
       "      <td>2010</td>\n",
       "      <td>1</td>\n",
       "      <td>Adamantina</td>\n",
       "      <td>CENTRO UNIVERSITÁRIO DE ADAMANTINA</td>\n",
       "      <td>31900187 - COMPLEMENTAÇÃO DE APOSENTADORIAS</td>\n",
       "      <td>15550.64</td>\n",
       "      <td>31900187</td>\n",
       "      <td>COMPLEMENTAÇÃO DE APOSENTADORIAS</td>\n",
       "    </tr>\n",
       "    <tr>\n",
       "      <th>1</th>\n",
       "      <td>2010</td>\n",
       "      <td>1</td>\n",
       "      <td>Adamantina</td>\n",
       "      <td>CENTRO UNIVERSITÁRIO DE ADAMANTINA</td>\n",
       "      <td>31900386 - COMPLEMENTAÇÃO DE PENSÕES - PESSOAL...</td>\n",
       "      <td>1428.79</td>\n",
       "      <td>31900386</td>\n",
       "      <td>COMPLEMENTAÇÃO DE PENSÕES - PESSOAL CIVIL</td>\n",
       "    </tr>\n",
       "    <tr>\n",
       "      <th>2</th>\n",
       "      <td>2010</td>\n",
       "      <td>1</td>\n",
       "      <td>Adamantina</td>\n",
       "      <td>CENTRO UNIVERSITÁRIO DE ADAMANTINA</td>\n",
       "      <td>31900415 - OBRIGAÇÕES PATRONAIS</td>\n",
       "      <td>28524.52</td>\n",
       "      <td>31900415</td>\n",
       "      <td>OBRIGAÇÕES PATRONAIS</td>\n",
       "    </tr>\n",
       "  </tbody>\n",
       "</table>\n",
       "</div>"
      ],
      "text/plain": [
       "   ano_exercicio  mes_referencia ds_municipio  \\\n",
       "0           2010               1   Adamantina   \n",
       "1           2010               1   Adamantina   \n",
       "2           2010               1   Adamantina   \n",
       "\n",
       "                             ds_orgao  \\\n",
       "0  CENTRO UNIVERSITÁRIO DE ADAMANTINA   \n",
       "1  CENTRO UNIVERSITÁRIO DE ADAMANTINA   \n",
       "2  CENTRO UNIVERSITÁRIO DE ADAMANTINA   \n",
       "\n",
       "                                         ds_elemento  vl_despesa cod_subitem  \\\n",
       "0        31900187 - COMPLEMENTAÇÃO DE APOSENTADORIAS    15550.64    31900187   \n",
       "1  31900386 - COMPLEMENTAÇÃO DE PENSÕES - PESSOAL...     1428.79    31900386   \n",
       "2                    31900415 - OBRIGAÇÕES PATRONAIS    28524.52    31900415   \n",
       "\n",
       "                                  ds_subitem  \n",
       "0           COMPLEMENTAÇÃO DE APOSENTADORIAS  \n",
       "1  COMPLEMENTAÇÃO DE PENSÕES - PESSOAL CIVIL  \n",
       "2                       OBRIGAÇÕES PATRONAIS  "
      ]
     },
     "metadata": {},
     "output_type": "display_data"
    }
   ],
   "source": [
    "df.ano_exercicio = df.ano_exercicio.astype(int)\n",
    "df.mes_referencia = df.mes_referencia.astype(int)\n",
    "df = df.reset_index(drop = True)\n",
    "\n",
    "df[['cod_subitem', 'ds_subitem']] = df.ds_elemento.str.split(pat=' - ', n = 1, expand=True)\n",
    "df['ds_subitem'] = df['ds_subitem'].str.strip()\n",
    "display( df.head(3) )\n",
    "\n",
    "df.to_parquet(\"Data/data2010to2022.parquet\")"
   ]
  },
  {
   "cell_type": "markdown",
   "id": "24c03778-f566-4c76-82fe-f20b90d1b07f",
   "metadata": {},
   "source": [
    "Finalmente, antes de tratarmos da análise destes dados devemos fazer mais algumas correções, sugeridas como forma de auxiliar o ajuste dos modelos. Essa correção consiste na refatoração de despesas pouco comuns ou financeiramente ''irrelevantes'', no sentido de que não impactam em grande escala as despesas do estado. Algumas despesas serão retiradas do conjunto de dados, enquanto outras serão agrupadas entre si."
   ]
  },
  {
   "cell_type": "code",
   "execution_count": 5,
   "id": "410675fd-fef6-411c-a42a-c6f49ff60ca9",
   "metadata": {},
   "outputs": [],
   "source": [
    "# df = pd.read_parquet(\"Data/data2010to2022.parquet\")"
   ]
  },
  {
   "cell_type": "code",
   "execution_count": 8,
   "id": "83a58da9-5bc2-440d-8781-288623276215",
   "metadata": {},
   "outputs": [],
   "source": [
    "# Índices de despesas que devem ser agrupadas em apenas uma\n",
    "agrupar = ['01','03','05','13','14','16','21','31','32','33','34','35','40','43','46','47','48','61','62','65','70',\n",
    "           '71','73','76','83','91','92','93','94']\n",
    "# Índices de despesas que devem ser ignoradas\n",
    "ignorar = ['04','08','07','09','10','18','19','20','22','23','24','25','27','37','38','41','42','45','49','59', '62', '64', \n",
    "           '65', '66','67','72','74','75', '76','77', '81','82','83','84','86','95','96','97','98','99'] #modalidade 50 fica fora do modelo\n",
    "\n",
    "dividir = ['11','30','36','39','51','52']\n",
    "ti = ['3908', '3911', '3957', '3994', '3995', '3997']\n",
    "\n",
    "substituir = {'0100':'0101','0300':'0301', '1100':'1101', '1187':'1101', '3000':'3099', '3600':'3699', '3900':'3999', '5100':'5199', '5200':'5299'}"
   ]
  },
  {
   "cell_type": "code",
   "execution_count": 9,
   "id": "70bbb83b-9d7d-4d43-8034-24ab6d307bb0",
   "metadata": {},
   "outputs": [],
   "source": [
    "df[['cod_subitem', 'ds_subitem']] = df.ds_elemento.str.split(pat=' - ', n=1, expand=True)\n",
    "df['ds_subitem'] = df['ds_subitem'].str.strip()\n",
    "\n",
    "# # Separação do código de despesa segundo seus diferentes setores\n",
    "df['grupo'] = df.cod_subitem.str[:2]\n",
    "df['modalidade'] = df.cod_subitem.str[2:4]\n",
    "df['elemento'] = df.cod_subitem.str[4:6]\n",
    "df['subitem'] = df.cod_subitem.str[6:8]"
   ]
  },
  {
   "cell_type": "code",
   "execution_count": 10,
   "id": "be1c10e8-0873-4d05-a71c-e413bd713f36",
   "metadata": {},
   "outputs": [
    {
     "name": "stdout",
     "output_type": "stream",
     "text": [
      "Quantidade de linhas total: 10566958\n",
      "Quantidade de linhas a serem excluídas: 240562\n",
      "Quantidade de linhas esperada após exclusão: 10326396\n",
      "Quantidade de linhas após a exclusão: 10326396\n",
      "Quantidade de linhas terceiro setor: 104426\n",
      "Quantidade de linhas esperada após exclusão: 10221970\n",
      "Quantidade de linhas após exclusão do terceiro setor: 10221970\n"
     ]
    }
   ],
   "source": [
    "# Exclusão de terceiro setor e índices pouco representativos\n",
    "print(f'Quantidade de linhas total: {len(df.index)}')\n",
    "print(f'Quantidade de linhas a serem excluídas: {len(df.loc[df.elemento.isin(ignorar)])}')\n",
    "print(f'Quantidade de linhas esperada após exclusão: {len(df.index)-len(df.loc[df.elemento.isin(ignorar)])}')\n",
    "df = df.loc[~df.elemento.isin(ignorar)]\n",
    "\n",
    "print(f'Quantidade de linhas após a exclusão: {len(df.index)}')\n",
    "print(f'Quantidade de linhas terceiro setor: {len(df.loc[(df.modalidade==\"50\")|(df.cod_subitem.str[4:8]==\"3975\")].index)}')\n",
    "print(f'Quantidade de linhas esperada após exclusão: {len(df.index)-len(df.loc[(df.modalidade==\"50\")|(df.cod_subitem.str[4:8]==\"3975\")].index)}')\n",
    "df = df.loc[(df.modalidade!='50')&(df.cod_subitem.str[4:8]!='3975')&(df.cod_subitem.str[4:8]!='8500')]\n",
    "\n",
    "print(f'Quantidade de linhas após exclusão do terceiro setor: {len(df.index)}')\n",
    "\n",
    "df = df.reset_index(drop = True)\n",
    "df.to_parquet(\"Data/data2010to2022.parquet\")"
   ]
  },
  {
   "cell_type": "code",
   "execution_count": 11,
   "id": "a12e7ee6-10fa-4023-babc-ccaada4ff87a",
   "metadata": {},
   "outputs": [],
   "source": [
    "# Agrupamento\n",
    "df.loc[df.cod_subitem.str[4:8].isin(ti), 'id_despesa'] = '4000'\n",
    "df.loc[df.elemento.isin(agrupar), 'id_despesa'] = df.elemento+'00'\n",
    "df.loc[df.elemento.isin(dividir), 'id_despesa'] = df.elemento+df.subitem\n",
    "df.id_despesa.replace(substituir, inplace=True)"
   ]
  },
  {
   "cell_type": "code",
   "execution_count": 12,
   "id": "5144db36-022c-46cf-9ea7-c04fea827a16",
   "metadata": {},
   "outputs": [
    {
     "name": "stdout",
     "output_type": "stream",
     "text": [
      "Tamanho da tabela: (9529123, 6)\n"
     ]
    }
   ],
   "source": [
    "df = (\n",
    "    df.\n",
    "    groupby(['ano_exercicio', 'mes_referencia', 'ds_municipio', 'ds_orgao', 'id_despesa']).\n",
    "    agg({\n",
    "        \"vl_despesa\": \"sum\"\n",
    "    }).\n",
    "    reset_index()\n",
    ")\n",
    "\n",
    "print(\"Tamanho da tabela: {}\".format(df.shape))\n",
    "\n",
    "df.to_parquet(\"Data/data2010to2022.parquet\")"
   ]
  },
  {
   "cell_type": "markdown",
   "id": "7520bfb4-55c8-41c9-96f9-aa672a6efbbf",
   "metadata": {},
   "source": [
    "## Comparação com a base utilizada originalmente"
   ]
  },
  {
   "cell_type": "markdown",
   "id": "e6c0d983-d7d2-4d3a-b897-802517ddd206",
   "metadata": {},
   "source": [
    "Façamos uma breve comparação entre a base de dados utilizada anteriormente e essa nova base gerada."
   ]
  },
  {
   "cell_type": "code",
   "execution_count": 2,
   "id": "deabab87-e6a7-4cd4-a838-16dd102c6ef0",
   "metadata": {},
   "outputs": [
    {
     "name": "stdout",
     "output_type": "stream",
     "text": [
      "Dimensões: (9529123, 6) e (9509919, 9)\n"
     ]
    },
    {
     "data": {
      "text/html": [
       "<div>\n",
       "<style scoped>\n",
       "    .dataframe tbody tr th:only-of-type {\n",
       "        vertical-align: middle;\n",
       "    }\n",
       "\n",
       "    .dataframe tbody tr th {\n",
       "        vertical-align: top;\n",
       "    }\n",
       "\n",
       "    .dataframe thead th {\n",
       "        text-align: right;\n",
       "    }\n",
       "</style>\n",
       "<table border=\"1\" class=\"dataframe\">\n",
       "  <thead>\n",
       "    <tr style=\"text-align: right;\">\n",
       "      <th></th>\n",
       "      <th>ano_exercicio</th>\n",
       "      <th>mes_referencia</th>\n",
       "      <th>ds_municipio</th>\n",
       "      <th>ds_orgao</th>\n",
       "      <th>id_despesa</th>\n",
       "      <th>vl_despesa</th>\n",
       "    </tr>\n",
       "  </thead>\n",
       "  <tbody>\n",
       "    <tr>\n",
       "      <th>0</th>\n",
       "      <td>2010</td>\n",
       "      <td>1</td>\n",
       "      <td>Adamantina</td>\n",
       "      <td>CENTRO UNIVERSITÁRIO DE ADAMANTINA</td>\n",
       "      <td>0101</td>\n",
       "      <td>15550.64</td>\n",
       "    </tr>\n",
       "    <tr>\n",
       "      <th>1</th>\n",
       "      <td>2010</td>\n",
       "      <td>1</td>\n",
       "      <td>Adamantina</td>\n",
       "      <td>CENTRO UNIVERSITÁRIO DE ADAMANTINA</td>\n",
       "      <td>0301</td>\n",
       "      <td>1428.79</td>\n",
       "    </tr>\n",
       "  </tbody>\n",
       "</table>\n",
       "</div>"
      ],
      "text/plain": [
       "   ano_exercicio  mes_referencia ds_municipio  \\\n",
       "0           2010               1   Adamantina   \n",
       "1           2010               1   Adamantina   \n",
       "\n",
       "                             ds_orgao id_despesa  vl_despesa  \n",
       "0  CENTRO UNIVERSITÁRIO DE ADAMANTINA       0101    15550.64  \n",
       "1  CENTRO UNIVERSITÁRIO DE ADAMANTINA       0301     1428.79  "
      ]
     },
     "metadata": {},
     "output_type": "display_data"
    },
    {
     "data": {
      "text/html": [
       "<div>\n",
       "<style scoped>\n",
       "    .dataframe tbody tr th:only-of-type {\n",
       "        vertical-align: middle;\n",
       "    }\n",
       "\n",
       "    .dataframe tbody tr th {\n",
       "        vertical-align: top;\n",
       "    }\n",
       "\n",
       "    .dataframe thead th {\n",
       "        text-align: right;\n",
       "    }\n",
       "</style>\n",
       "<table border=\"1\" class=\"dataframe\">\n",
       "  <thead>\n",
       "    <tr style=\"text-align: right;\">\n",
       "      <th></th>\n",
       "      <th>ano_exercicio</th>\n",
       "      <th>mes_referencia</th>\n",
       "      <th>cd_municipio_ibge</th>\n",
       "      <th>entidade_id</th>\n",
       "      <th>ds_municipio</th>\n",
       "      <th>ds_orgao</th>\n",
       "      <th>ds_tp_entidade</th>\n",
       "      <th>id_despesa</th>\n",
       "      <th>vl_despesa</th>\n",
       "    </tr>\n",
       "  </thead>\n",
       "  <tbody>\n",
       "    <tr>\n",
       "      <th>0</th>\n",
       "      <td>2010</td>\n",
       "      <td>1</td>\n",
       "      <td>3500105.0</td>\n",
       "      <td>16799.0</td>\n",
       "      <td>Adamantina</td>\n",
       "      <td>PREFEITURA MUNICIPAL DE ADAMANTINA</td>\n",
       "      <td>PREFEITURA MUNICIPAL</td>\n",
       "      <td>0101</td>\n",
       "      <td>208321.50</td>\n",
       "    </tr>\n",
       "    <tr>\n",
       "      <th>1</th>\n",
       "      <td>2010</td>\n",
       "      <td>1</td>\n",
       "      <td>3500105.0</td>\n",
       "      <td>16799.0</td>\n",
       "      <td>Adamantina</td>\n",
       "      <td>PREFEITURA MUNICIPAL DE ADAMANTINA</td>\n",
       "      <td>PREFEITURA MUNICIPAL</td>\n",
       "      <td>0301</td>\n",
       "      <td>84729.15</td>\n",
       "    </tr>\n",
       "  </tbody>\n",
       "</table>\n",
       "</div>"
      ],
      "text/plain": [
       "   ano_exercicio  mes_referencia  cd_municipio_ibge  entidade_id ds_municipio  \\\n",
       "0           2010               1          3500105.0      16799.0   Adamantina   \n",
       "1           2010               1          3500105.0      16799.0   Adamantina   \n",
       "\n",
       "                             ds_orgao        ds_tp_entidade id_despesa  \\\n",
       "0  PREFEITURA MUNICIPAL DE ADAMANTINA  PREFEITURA MUNICIPAL       0101   \n",
       "1  PREFEITURA MUNICIPAL DE ADAMANTINA  PREFEITURA MUNICIPAL       0301   \n",
       "\n",
       "   vl_despesa  \n",
       "0   208321.50  \n",
       "1    84729.15  "
      ]
     },
     "metadata": {},
     "output_type": "display_data"
    }
   ],
   "source": [
    "df = pd.read_parquet(\"Data/data2010to2022.parquet\")\n",
    "df2 = pd.read_parquet(\"Data/base2022subitensagrupadospormesV2.parquet\")\n",
    "\n",
    "print(\"Dimensões: {} e {}\".format(df.shape, df2.shape))\n",
    "\n",
    "display( df.head(2) )\n",
    "display( df2.head(2) )"
   ]
  },
  {
   "cell_type": "code",
   "execution_count": 27,
   "id": "685d00d3-560c-47e5-b989-4d4d2b571599",
   "metadata": {},
   "outputs": [],
   "source": [
    "# Rápida correção dos nomes de alguns municípios, não padronizados na base do portal da transparência\n",
    "\n",
    "# Municípios\n",
    "df.loc[df.ds_municipio == \"Biritiba-Mirim\", \"ds_municipio\"] = \"Biritiba Mirim\"\n",
    "df.loc[df.ds_municipio == \"Florínea\", \"ds_municipio\"] = \"Florínia\"\n",
    "df.loc[df.ds_municipio == \"Itaóca\", \"ds_municipio\"] = \"Itaoca\"\n",
    "df.loc[df.ds_municipio == \"São Luis do Paraitinga\", \"ds_municipio\"] = \"São Luíz do Paraitinga\"\n",
    "df.loc[df.ds_municipio == \"São Luís do Paraitinga\", \"ds_municipio\"] = \"São Luíz do Paraitinga\"\n",
    "df.loc[df.ds_municipio == \"São Luíz do Paraitinga\", \"ds_municipio\"] = \"São Luiz do Paraitinga\"\n",
    "\n",
    "# Órgãos\n",
    "df.loc[df.ds_orgao == \"CÂMARA MUNICIPAL DE BIRITIBA-MIRIM\", \"ds_orgao\"] = \"CÂMARA MUNICIPAL DE BIRITIBA MIRIM\"\n",
    "df.loc[df.ds_orgao == \"PREFEITURA MUNICIPAL DE BIRITIBA-MIRIM\", \"ds_orgao\"] = \"PREFEITURA MUNICIPAL DE BIRITIBA MIRIM\"\n",
    "df.loc[df.ds_orgao == \"PREFEITURA MUNICIPAL DE FLORÍNEA\", \"ds_orgao\"] = \"PREFEITURA MUNICIPAL DE FLORÍNIA\"\n",
    "df.loc[df.ds_orgao == \"CÂMARA MUNICIPAL DE FLORÍNEA\", \"ds_orgao\"] = \"CÂMARA MUNICIPAL DE FLORÍNIA\"\n",
    "df.loc[df.ds_orgao == \"CÂMARA MUNICIPAL DE ITAÓCA\", \"ds_orgao\"] = \"CÂMARA MUNICIPAL DE ITAOCA\"\n",
    "df.loc[df.ds_orgao == \"PREFEITURA MUNICIPAL DE ITAÓCA\", \"ds_orgao\"] = \"PREFEITURA MUNICIPAL DE ITAOCA\"\n",
    "df.loc[df.ds_orgao == \"CÂMARA MUNICIPAL DE SÃO LUÍS DO PARAITINGA\", \"ds_orgao\"] = \"CÂMARA MUNICIPAL DE SÃO LUÍZ DO PARAITINGA\"\n",
    "df.loc[df.ds_orgao == \"PREFEITURA MUNICIPAL DE SÃO LUÍS DO PARAITINGA\", \"ds_orgao\"] = \"PREFEITURA MUNICIPAL DE SÃO LUÍZ DO PARAITINGA\"\n",
    "df.loc[df.ds_orgao == \"CÂMARA MUNICIPAL DE SÃO LUÍZ DO PARAITINGA\", \"ds_orgao\"] = \"CÂMARA MUNICIPAL DE SÃO LUZ DO PARAITINGA\"\n",
    "df.loc[df.ds_orgao == \"PREFEITURA MUNICIPAL DE SÃO LUÍZ DO PARAITINGA\", \"ds_orgao\"] = \"PREFEITURA MUNICIPAL DE SÃO LUIZ DO PARAITINGA\"\n",
    "\n",
    "# Municípios\n",
    "df2.loc[df2.ds_municipio == \"Biritiba-Mirim\", \"ds_municipio\"] = \"Biritiba Mirim\"\n",
    "df2.loc[df2.ds_municipio == \"Florínea\", \"ds_municipio\"] = \"Florínia\"\n",
    "df2.loc[df2.ds_municipio == \"Itaóca\", \"ds_municipio\"] = \"Itaoca\"\n",
    "df2.loc[df2.ds_municipio == \"São Luis do Paraitinga\", \"ds_municipio\"] = \"São Luíz do Paraitinga\"\n",
    "df2.loc[df2.ds_municipio == \"São Luís do Paraitinga\", \"ds_municipio\"] = \"São Luíz do Paraitinga\"\n",
    "df2.loc[df2.ds_municipio == \"São Luíz do Paraitinga\", \"ds_municipio\"] = \"São Luiz do Paraitinga\"\n",
    "\n",
    "# Órgãos\n",
    "df2.loc[df2.ds_orgao == \"CÂMARA MUNICIPAL DE BIRITIBA-MIRIM\", \"ds_orgao\"] = \"CÂMARA MUNICIPAL DE BIRITIBA MIRIM\"\n",
    "df2.loc[df2.ds_orgao == \"PREFEITURA MUNICIPAL DE BIRITIBA-MIRIM\", \"ds_orgao\"] = \"PREFEITURA MUNICIPAL DE BIRITIBA MIRIM\"\n",
    "df2.loc[df2.ds_orgao == \"PREFEITURA MUNICIPAL DE FLORÍNEA\", \"ds_orgao\"] = \"PREFEITURA MUNICIPAL DE FLORÍNIA\"\n",
    "df2.loc[df2.ds_orgao == \"CÂMARA MUNICIPAL DE FLORÍNIA\", \"ds_orgao\"] = \"CÂMARA MUNICIPAL DE FLORÍNIA\"\n",
    "df2.loc[df2.ds_orgao == \"CÂMARA MUNICIPAL DE ITAÓCA\", \"ds_orgao\"] = \"CÂMARA MUNICIPAL DE ITAOCA\"\n",
    "df2.loc[df2.ds_orgao == \"PREFEITURA MUNICIPAL DE ITAÓCA\", \"ds_orgao\"] = \"PREFEITURA MUNICIPAL DE ITAOCA\"\n",
    "df2.loc[df2.ds_orgao == \"CÂMARA MUNICIPAL DE SÃO LUÍS DO PARAITINGA\", \"ds_orgao\"] = \"CÂMARA MUNICIPAL DE SÃO LUÍZ DO PARAITINGA\"\n",
    "df2.loc[df2.ds_orgao == \"PREFEITURA MUNICIPAL DE SÃO LUÍS DO PARAITINGA\", \"ds_orgao\"] = \"PREFEITURA MUNICIPAL DE SÃO LUÍZ DO PARAITINGA\"\n",
    "df2.loc[df2.ds_orgao == \"CÂMARA MUNICIPAL DE SÃO LUÍZ DO PARAITINGA\", \"ds_orgao\"] = \"CÂMARA MUNICIPAL DE SÃO LUZ DO PARAITINGA\"\n",
    "df2.loc[df2.ds_orgao == \"PREFEITURA MUNICIPAL DE SÃO LUÍZ DO PARAITINGA\", \"ds_orgao\"] = \"PREFEITURA MUNICIPAL DE SÃO LUIZ DO PARAITINGA\"\n",
    "\n",
    "df.to_parquet(\"Data/data2010to2022.parquet\")\n",
    "df2.to_parquet(\"Data/base2022subitensagrupadospormesV2.parquet\")"
   ]
  },
  {
   "cell_type": "markdown",
   "id": "91da07a5-cae9-443b-8353-a495f237a9e7",
   "metadata": {},
   "source": [
    "De fato, o novo conjunto de dados gerado parece apresentar linhas a mais que o conjunto anterior. Vejamos quais são essas linhas ao remover linhas idênticas em ambos os casos (Para essa comparação, serão desconsideradas as colunas ''cd_municipio_ibge'', ''entidade_id'' e ''ds_tp_entidade'')."
   ]
  },
  {
   "cell_type": "code",
   "execution_count": 3,
   "id": "92ef715f-4f3b-4f87-bba5-22fa21a8f6eb",
   "metadata": {},
   "outputs": [],
   "source": [
    "df2 = df2.filter([\"ano_exercicio\", \"mes_referencia\", \"ds_municipio\", \"ds_orgao\", \"id_despesa\", \"vl_despesa\"])"
   ]
  },
  {
   "cell_type": "code",
   "execution_count": 7,
   "id": "a3b201a5-0f8f-4f8e-b3eb-3f02714937bf",
   "metadata": {},
   "outputs": [
    {
     "name": "stdout",
     "output_type": "stream",
     "text": [
      "Dimensão dos dados únicos: (116248, 6)\n"
     ]
    }
   ],
   "source": [
    "df_unique = (\n",
    "    pd.\n",
    "    merge(df, df2, indicator=True, how='outer').\n",
    "    query('_merge==\"left_only\"').\n",
    "    drop('_merge', axis=1)\n",
    ")\n",
    "\n",
    "print(\"Dimensão dos dados únicos: {}\".format(df_unique.shape))"
   ]
  },
  {
   "cell_type": "code",
   "execution_count": 44,
   "id": "cf3ad143-c256-46eb-8a65-0941e0636f11",
   "metadata": {},
   "outputs": [
    {
     "data": {
      "text/html": [
       "<div>\n",
       "<style scoped>\n",
       "    .dataframe tbody tr th:only-of-type {\n",
       "        vertical-align: middle;\n",
       "    }\n",
       "\n",
       "    .dataframe tbody tr th {\n",
       "        vertical-align: top;\n",
       "    }\n",
       "\n",
       "    .dataframe thead th {\n",
       "        text-align: right;\n",
       "    }\n",
       "</style>\n",
       "<table border=\"1\" class=\"dataframe\">\n",
       "  <thead>\n",
       "    <tr style=\"text-align: right;\">\n",
       "      <th></th>\n",
       "      <th>ano_exercicio</th>\n",
       "      <th>mes_referencia</th>\n",
       "      <th>ds_municipio</th>\n",
       "      <th>ds_orgao</th>\n",
       "      <th>id_despesa</th>\n",
       "      <th>vl_despesa</th>\n",
       "    </tr>\n",
       "  </thead>\n",
       "  <tbody>\n",
       "    <tr>\n",
       "      <th>3693</th>\n",
       "      <td>2010</td>\n",
       "      <td>1</td>\n",
       "      <td>Barretos</td>\n",
       "      <td>FUNDAÇÃO EDUCACIONAL DE BARRETOS</td>\n",
       "      <td>1101</td>\n",
       "      <td>1171022.96</td>\n",
       "    </tr>\n",
       "    <tr>\n",
       "      <th>3694</th>\n",
       "      <td>2010</td>\n",
       "      <td>1</td>\n",
       "      <td>Barretos</td>\n",
       "      <td>FUNDAÇÃO EDUCACIONAL DE BARRETOS</td>\n",
       "      <td>1143</td>\n",
       "      <td>1096.83</td>\n",
       "    </tr>\n",
       "    <tr>\n",
       "      <th>3695</th>\n",
       "      <td>2010</td>\n",
       "      <td>1</td>\n",
       "      <td>Barretos</td>\n",
       "      <td>FUNDAÇÃO EDUCACIONAL DE BARRETOS</td>\n",
       "      <td>1300</td>\n",
       "      <td>111195.51</td>\n",
       "    </tr>\n",
       "  </tbody>\n",
       "</table>\n",
       "</div>"
      ],
      "text/plain": [
       "      ano_exercicio  mes_referencia ds_municipio  \\\n",
       "3693           2010               1     Barretos   \n",
       "3694           2010               1     Barretos   \n",
       "3695           2010               1     Barretos   \n",
       "\n",
       "                              ds_orgao id_despesa  vl_despesa  \n",
       "3693  FUNDAÇÃO EDUCACIONAL DE BARRETOS       1101  1171022.96  \n",
       "3694  FUNDAÇÃO EDUCACIONAL DE BARRETOS       1143     1096.83  \n",
       "3695  FUNDAÇÃO EDUCACIONAL DE BARRETOS       1300   111195.51  "
      ]
     },
     "metadata": {},
     "output_type": "display_data"
    }
   ],
   "source": [
    "display( df_unique.head(3) )"
   ]
  },
  {
   "cell_type": "markdown",
   "id": "8563c60a-818c-4c2c-99c0-f3d0e0b295b8",
   "metadata": {},
   "source": [
    "Como podemos ver acima e nas duas linhas seguintes, o conjunto de dados utilizado anteriormente não conta com despesas referentes ao órgão ''FUNDAÇÃO EDUCACIONAL DE BARRETOS'' no ano de 2010. Entretanto, os códigos envolvidos não necessariamente foram explicitados para serem retirados. Vemos, por exemplo, que uma despesa de mesmo id (1101) está presente no conjunto ''df2'', indicando que a ausência de um órgão por completo não seria justificada pela filtragem dos códigos de despesa diretamente."
   ]
  },
  {
   "cell_type": "code",
   "execution_count": 48,
   "id": "974211c4-9100-4c9b-ac04-96fb33c841cf",
   "metadata": {},
   "outputs": [
    {
     "data": {
      "text/html": [
       "<div>\n",
       "<style scoped>\n",
       "    .dataframe tbody tr th:only-of-type {\n",
       "        vertical-align: middle;\n",
       "    }\n",
       "\n",
       "    .dataframe tbody tr th {\n",
       "        vertical-align: top;\n",
       "    }\n",
       "\n",
       "    .dataframe thead th {\n",
       "        text-align: right;\n",
       "    }\n",
       "</style>\n",
       "<table border=\"1\" class=\"dataframe\">\n",
       "  <thead>\n",
       "    <tr style=\"text-align: right;\">\n",
       "      <th></th>\n",
       "      <th>ano_exercicio</th>\n",
       "      <th>mes_referencia</th>\n",
       "      <th>ds_municipio</th>\n",
       "      <th>ds_orgao</th>\n",
       "      <th>id_despesa</th>\n",
       "      <th>vl_despesa</th>\n",
       "    </tr>\n",
       "  </thead>\n",
       "  <tbody>\n",
       "    <tr>\n",
       "      <th>3693</th>\n",
       "      <td>2010</td>\n",
       "      <td>1</td>\n",
       "      <td>Barretos</td>\n",
       "      <td>FUNDAÇÃO EDUCACIONAL DE BARRETOS</td>\n",
       "      <td>1101</td>\n",
       "      <td>1171022.96</td>\n",
       "    </tr>\n",
       "    <tr>\n",
       "      <th>3694</th>\n",
       "      <td>2010</td>\n",
       "      <td>1</td>\n",
       "      <td>Barretos</td>\n",
       "      <td>FUNDAÇÃO EDUCACIONAL DE BARRETOS</td>\n",
       "      <td>1143</td>\n",
       "      <td>1096.83</td>\n",
       "    </tr>\n",
       "    <tr>\n",
       "      <th>3695</th>\n",
       "      <td>2010</td>\n",
       "      <td>1</td>\n",
       "      <td>Barretos</td>\n",
       "      <td>FUNDAÇÃO EDUCACIONAL DE BARRETOS</td>\n",
       "      <td>1300</td>\n",
       "      <td>111195.51</td>\n",
       "    </tr>\n",
       "  </tbody>\n",
       "</table>\n",
       "</div>"
      ],
      "text/plain": [
       "      ano_exercicio  mes_referencia ds_municipio  \\\n",
       "3693           2010               1     Barretos   \n",
       "3694           2010               1     Barretos   \n",
       "3695           2010               1     Barretos   \n",
       "\n",
       "                              ds_orgao id_despesa  vl_despesa  \n",
       "3693  FUNDAÇÃO EDUCACIONAL DE BARRETOS       1101  1171022.96  \n",
       "3694  FUNDAÇÃO EDUCACIONAL DE BARRETOS       1143     1096.83  \n",
       "3695  FUNDAÇÃO EDUCACIONAL DE BARRETOS       1300   111195.51  "
      ]
     },
     "metadata": {},
     "output_type": "display_data"
    }
   ],
   "source": [
    "display( df.query(\"ds_orgao == 'FUNDAÇÃO EDUCACIONAL DE BARRETOS' & ano_exercicio == 2010\").head(3) )"
   ]
  },
  {
   "cell_type": "code",
   "execution_count": 47,
   "id": "f4684682-458d-4def-8c69-5c70fef3504c",
   "metadata": {},
   "outputs": [
    {
     "data": {
      "text/html": [
       "<div>\n",
       "<style scoped>\n",
       "    .dataframe tbody tr th:only-of-type {\n",
       "        vertical-align: middle;\n",
       "    }\n",
       "\n",
       "    .dataframe tbody tr th {\n",
       "        vertical-align: top;\n",
       "    }\n",
       "\n",
       "    .dataframe thead th {\n",
       "        text-align: right;\n",
       "    }\n",
       "</style>\n",
       "<table border=\"1\" class=\"dataframe\">\n",
       "  <thead>\n",
       "    <tr style=\"text-align: right;\">\n",
       "      <th></th>\n",
       "      <th>ano_exercicio</th>\n",
       "      <th>mes_referencia</th>\n",
       "      <th>ds_municipio</th>\n",
       "      <th>ds_orgao</th>\n",
       "      <th>id_despesa</th>\n",
       "      <th>vl_despesa</th>\n",
       "    </tr>\n",
       "  </thead>\n",
       "  <tbody>\n",
       "  </tbody>\n",
       "</table>\n",
       "</div>"
      ],
      "text/plain": [
       "Empty DataFrame\n",
       "Columns: [ano_exercicio, mes_referencia, ds_municipio, ds_orgao, id_despesa, vl_despesa]\n",
       "Index: []"
      ]
     },
     "metadata": {},
     "output_type": "display_data"
    }
   ],
   "source": [
    "display( df2.query(\"ds_orgao == 'FUNDAÇÃO EDUCACIONAL DE BARRETOS' & ano_exercicio == 2010\").head(3) )"
   ]
  },
  {
   "cell_type": "code",
   "execution_count": 50,
   "id": "83f2b712-51b0-446d-b800-34c04175664a",
   "metadata": {},
   "outputs": [
    {
     "data": {
      "text/html": [
       "<div>\n",
       "<style scoped>\n",
       "    .dataframe tbody tr th:only-of-type {\n",
       "        vertical-align: middle;\n",
       "    }\n",
       "\n",
       "    .dataframe tbody tr th {\n",
       "        vertical-align: top;\n",
       "    }\n",
       "\n",
       "    .dataframe thead th {\n",
       "        text-align: right;\n",
       "    }\n",
       "</style>\n",
       "<table border=\"1\" class=\"dataframe\">\n",
       "  <thead>\n",
       "    <tr style=\"text-align: right;\">\n",
       "      <th></th>\n",
       "      <th>ano_exercicio</th>\n",
       "      <th>mes_referencia</th>\n",
       "      <th>ds_municipio</th>\n",
       "      <th>ds_orgao</th>\n",
       "      <th>id_despesa</th>\n",
       "      <th>vl_despesa</th>\n",
       "    </tr>\n",
       "  </thead>\n",
       "  <tbody>\n",
       "    <tr>\n",
       "      <th>0</th>\n",
       "      <td>2010</td>\n",
       "      <td>1</td>\n",
       "      <td>Adamantina</td>\n",
       "      <td>PREFEITURA MUNICIPAL DE ADAMANTINA</td>\n",
       "      <td>0101</td>\n",
       "      <td>208321.50</td>\n",
       "    </tr>\n",
       "    <tr>\n",
       "      <th>1</th>\n",
       "      <td>2010</td>\n",
       "      <td>1</td>\n",
       "      <td>Adamantina</td>\n",
       "      <td>PREFEITURA MUNICIPAL DE ADAMANTINA</td>\n",
       "      <td>0301</td>\n",
       "      <td>84729.15</td>\n",
       "    </tr>\n",
       "    <tr>\n",
       "      <th>2</th>\n",
       "      <td>2010</td>\n",
       "      <td>1</td>\n",
       "      <td>Adamantina</td>\n",
       "      <td>PREFEITURA MUNICIPAL DE ADAMANTINA</td>\n",
       "      <td>1101</td>\n",
       "      <td>484631.79</td>\n",
       "    </tr>\n",
       "  </tbody>\n",
       "</table>\n",
       "</div>"
      ],
      "text/plain": [
       "   ano_exercicio  mes_referencia ds_municipio  \\\n",
       "0           2010               1   Adamantina   \n",
       "1           2010               1   Adamantina   \n",
       "2           2010               1   Adamantina   \n",
       "\n",
       "                             ds_orgao id_despesa  vl_despesa  \n",
       "0  PREFEITURA MUNICIPAL DE ADAMANTINA       0101   208321.50  \n",
       "1  PREFEITURA MUNICIPAL DE ADAMANTINA       0301    84729.15  \n",
       "2  PREFEITURA MUNICIPAL DE ADAMANTINA       1101   484631.79  "
      ]
     },
     "execution_count": 50,
     "metadata": {},
     "output_type": "execute_result"
    }
   ],
   "source": [
    "df2.head(3)"
   ]
  },
  {
   "cell_type": "markdown",
   "id": "8c60454c-7c49-40cd-97bb-54bba56d8cd2",
   "metadata": {},
   "source": [
    "Até que seja verificada esta diferença, as análises dos dados posteriores serão baseadas no conjunto de dados obtido a partir deste notebook. Dada a ínfima quantidade de dados distoantes do conjunto original ($116248/9529123 \\approx 0.0122$), provavelmente este resultado não irá trazer grandes alterações para a replicação dos resultados já vistos nas análises anteriores."
   ]
  }
 ],
 "metadata": {
  "kernelspec": {
   "display_name": "tcesp",
   "language": "python",
   "name": "tcesp"
  },
  "language_info": {
   "codemirror_mode": {
    "name": "ipython",
    "version": 3
   },
   "file_extension": ".py",
   "mimetype": "text/x-python",
   "name": "python",
   "nbconvert_exporter": "python",
   "pygments_lexer": "ipython3",
   "version": "3.9.12"
  }
 },
 "nbformat": 4,
 "nbformat_minor": 5
}
